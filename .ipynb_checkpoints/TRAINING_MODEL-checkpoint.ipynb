{
 "cells": [
  {
   "cell_type": "markdown",
   "id": "ee1c1fdc-c64a-4054-a379-3afc7e248aea",
   "metadata": {},
   "source": [
    "## IMPORTING LIBRARIES"
   ]
  },
  {
   "cell_type": "code",
   "execution_count": 1,
   "id": "d4500952-e0b3-4e5d-9b23-3fe233b4636a",
   "metadata": {},
   "outputs": [],
   "source": [
    "import tensorflow as tf\n",
    "import matplotlib.pyplot as plt\n",
    "import pandas as pd\n",
    "import seaborn as sns\n",
    "%matplotlib inline"
   ]
  },
  {
   "cell_type": "code",
   "execution_count": 3,
   "id": "b3f827e2-24a4-42a3-b89f-8bd4dc9ab5db",
   "metadata": {},
   "outputs": [
    {
     "name": "stdout",
     "output_type": "stream",
     "text": [
      "Found 70295 files belonging to 38 classes.\n"
     ]
    }
   ],
   "source": [
    "training_set=tf.keras.utils.image_dataset_from_directory(\n",
    "    'train',\n",
    "    labels=\"inferred\",\n",
    "    label_mode=\"categorical\",\n",
    "    class_names=None,\n",
    "    color_mode=\"rgb\",\n",
    "    batch_size=32,\n",
    "    image_size=(128, 128),\n",
    "    shuffle=True,\n",
    "    seed=None,\n",
    "    validation_split=None,\n",
    "    subset=None,\n",
    "    interpolation=\"bilinear\",\n",
    "    follow_links=False,\n",
    "    crop_to_aspect_ratio=False,\n",
    ")"
   ]
  },
  {
   "cell_type": "code",
   "execution_count": 4,
   "id": "bfade53e-8fc9-470e-bcfe-dbda8ef849f5",
   "metadata": {},
   "outputs": [
    {
     "name": "stdout",
     "output_type": "stream",
     "text": [
      "Found 17572 files belonging to 38 classes.\n"
     ]
    }
   ],
   "source": [
    "validation_set=tf.keras.utils.image_dataset_from_directory(\n",
    "    'valid',\n",
    "    labels=\"inferred\",\n",
    "    label_mode=\"categorical\",\n",
    "    class_names=None,\n",
    "    color_mode=\"rgb\",\n",
    "    batch_size=32,\n",
    "    image_size=(128, 128),\n",
    "    shuffle=True,\n",
    "    seed=None,\n",
    "    validation_split=None,\n",
    "    subset=None,\n",
    "    interpolation=\"bilinear\",\n",
    "    follow_links=False,\n",
    "    crop_to_aspect_ratio=False,\n",
    ")"
   ]
  },
  {
   "cell_type": "code",
   "execution_count": 5,
   "id": "9b8bc9a0-7228-45eb-b599-3f7d9d211ed9",
   "metadata": {},
   "outputs": [
    {
     "data": {
      "text/plain": [
       "<_PrefetchDataset element_spec=(TensorSpec(shape=(None, 128, 128, 3), dtype=tf.float32, name=None), TensorSpec(shape=(None, 38), dtype=tf.float32, name=None))>"
      ]
     },
     "execution_count": 5,
     "metadata": {},
     "output_type": "execute_result"
    }
   ],
   "source": [
    "training_set"
   ]
  },
  {
   "cell_type": "code",
   "execution_count": 7,
   "id": "17203144-e756-45fd-9a1d-8bc0a78958a1",
   "metadata": {},
   "outputs": [
    {
     "data": {
      "text/plain": [
       "<_PrefetchDataset element_spec=(TensorSpec(shape=(None, 128, 128, 3), dtype=tf.float32, name=None), TensorSpec(shape=(None, 38), dtype=tf.float32, name=None))>"
      ]
     },
     "execution_count": 7,
     "metadata": {},
     "output_type": "execute_result"
    }
   ],
   "source": [
    "validation_set"
   ]
  },
  {
   "cell_type": "code",
   "execution_count": 11,
   "id": "9dc17d8c-5b01-4fb5-819f-dd19d96466de",
   "metadata": {},
   "outputs": [
    {
     "name": "stdout",
     "output_type": "stream",
     "text": [
      "tf.Tensor(\n",
      "[[[[155.   153.   154.  ]\n",
      "   [157.5  155.5  156.5 ]\n",
      "   [157.5  155.5  156.5 ]\n",
      "   ...\n",
      "   [ 97.25  91.25  93.25]\n",
      "   [ 95.    89.    91.  ]\n",
      "   [100.75  94.75  96.75]]\n",
      "\n",
      "  [[154.5  152.5  153.5 ]\n",
      "   [156.5  154.5  155.5 ]\n",
      "   [156.5  154.5  155.5 ]\n",
      "   ...\n",
      "   [106.   100.   102.  ]\n",
      "   [ 99.5   93.5   95.5 ]\n",
      "   [100.25  94.25  96.25]]\n",
      "\n",
      "  [[155.   153.   154.  ]\n",
      "   [157.   155.   156.  ]\n",
      "   [157.   155.   156.  ]\n",
      "   ...\n",
      "   [109.75 103.75 105.75]\n",
      "   [105.25  99.25 101.25]\n",
      "   [101.5   95.5   97.5 ]]\n",
      "\n",
      "  ...\n",
      "\n",
      "  [[163.5  159.5  160.5 ]\n",
      "   [162.5  158.5  159.5 ]\n",
      "   [163.   159.   160.  ]\n",
      "   ...\n",
      "   [103.5   97.5   99.5 ]\n",
      "   [102.25  96.25  98.25]\n",
      "   [ 85.5   79.5   81.5 ]]\n",
      "\n",
      "  [[164.25 160.25 161.25]\n",
      "   [161.5  157.5  158.5 ]\n",
      "   [163.5  159.5  160.5 ]\n",
      "   ...\n",
      "   [103.5   97.5   99.5 ]\n",
      "   [108.25 102.25 104.25]\n",
      "   [107.5  101.5  103.5 ]]\n",
      "\n",
      "  [[162.5  158.5  159.5 ]\n",
      "   [160.25 156.25 157.25]\n",
      "   [164.25 160.25 161.25]\n",
      "   ...\n",
      "   [120.25 114.25 116.25]\n",
      "   [111.75 105.75 107.75]\n",
      "   [107.75 101.75 103.75]]]\n",
      "\n",
      "\n",
      " [[[182.75 176.75 186.75]\n",
      "   [185.25 179.25 189.25]\n",
      "   [181.   175.   185.  ]\n",
      "   ...\n",
      "   [171.5  164.5  172.5 ]\n",
      "   [180.   173.   181.  ]\n",
      "   [175.   168.   176.  ]]\n",
      "\n",
      "  [[184.5  178.5  188.5 ]\n",
      "   [187.5  181.5  191.5 ]\n",
      "   [190.   184.   194.  ]\n",
      "   ...\n",
      "   [149.75 142.75 150.75]\n",
      "   [167.25 160.25 168.25]\n",
      "   [179.   172.   180.  ]]\n",
      "\n",
      "  [[187.5  181.5  191.5 ]\n",
      "   [185.5  179.5  189.5 ]\n",
      "   [184.75 178.75 188.75]\n",
      "   ...\n",
      "   [184.   177.   185.  ]\n",
      "   [149.5  142.5  150.5 ]\n",
      "   [186.   179.   187.  ]]\n",
      "\n",
      "  ...\n",
      "\n",
      "  [[168.25 162.25 172.25]\n",
      "   [169.   163.   173.  ]\n",
      "   [168.25 162.25 172.25]\n",
      "   ...\n",
      "   [156.5  149.5  157.5 ]\n",
      "   [136.25 129.25 137.25]\n",
      "   [150.5  143.5  151.5 ]]\n",
      "\n",
      "  [[169.25 163.25 173.25]\n",
      "   [168.75 162.75 172.75]\n",
      "   [166.25 160.25 170.25]\n",
      "   ...\n",
      "   [133.5  126.5  134.5 ]\n",
      "   [150.5  143.5  151.5 ]\n",
      "   [135.75 128.75 136.75]]\n",
      "\n",
      "  [[174.5  168.5  178.5 ]\n",
      "   [172.25 166.25 176.25]\n",
      "   [166.75 160.75 170.75]\n",
      "   ...\n",
      "   [157.75 150.75 158.75]\n",
      "   [136.5  129.5  137.5 ]\n",
      "   [162.5  155.5  163.5 ]]]\n",
      "\n",
      "\n",
      " [[[158.25 146.25 152.75]\n",
      "   [161.   151.   161.5 ]\n",
      "   [159.25 154.25 167.25]\n",
      "   ...\n",
      "   [104.   112.5   91.5 ]\n",
      "   [ 96.75 103.75  85.75]\n",
      "   [102.25 108.5   90.75]]\n",
      "\n",
      "  [[162.75 150.75 157.25]\n",
      "   [163.   153.5  163.75]\n",
      "   [161.25 156.25 169.25]\n",
      "   ...\n",
      "   [100.   104.    84.5 ]\n",
      "   [ 99.5  103.    85.5 ]\n",
      "   [109.25 112.5   95.5 ]]\n",
      "\n",
      "  [[165.5  154.5  161.  ]\n",
      "   [164.   155.25 164.5 ]\n",
      "   [162.25 156.5  168.5 ]\n",
      "   ...\n",
      "   [106.   108.25  87.25]\n",
      "   [105.25 107.5   87.25]\n",
      "   [109.25 111.25  91.75]]\n",
      "\n",
      "  ...\n",
      "\n",
      "  [[155.5  149.5  161.5 ]\n",
      "   [152.5  146.5  158.5 ]\n",
      "   [150.25 144.25 156.25]\n",
      "   ...\n",
      "   [135.   104.5   76.5 ]\n",
      "   [ 97.    70.25  41.  ]\n",
      "   [110.5   90.5   60.  ]]\n",
      "\n",
      "  [[156.   150.   162.  ]\n",
      "   [153.5  147.5  159.5 ]\n",
      "   [150.75 144.75 156.75]\n",
      "   ...\n",
      "   [153.   127.    96.5 ]\n",
      "   [102.    79.25  47.25]\n",
      "   [ 92.75  75.25  41.75]]\n",
      "\n",
      "  [[153.   147.   159.  ]\n",
      "   [151.25 145.25 157.25]\n",
      "   [151.   145.   157.  ]\n",
      "   ...\n",
      "   [137.5  113.75  79.75]\n",
      "   [ 87.5   67.    32.  ]\n",
      "   [100.75  85.75  49.25]]]\n",
      "\n",
      "\n",
      " ...\n",
      "\n",
      "\n",
      " [[[186.25 175.25 171.25]\n",
      "   [182.   171.   167.  ]\n",
      "   [182.75 171.75 167.75]\n",
      "   ...\n",
      "   [192.5  178.5  177.5 ]\n",
      "   [193.25 179.25 178.25]\n",
      "   [180.75 166.75 165.75]]\n",
      "\n",
      "  [[185.75 174.75 170.75]\n",
      "   [180.   169.   165.  ]\n",
      "   [178.75 167.75 163.75]\n",
      "   ...\n",
      "   [187.75 173.75 172.75]\n",
      "   [188.5  174.5  173.5 ]\n",
      "   [179.5  165.5  164.5 ]]\n",
      "\n",
      "  [[190.25 179.25 175.25]\n",
      "   [181.5  170.5  166.5 ]\n",
      "   [182.25 171.25 167.25]\n",
      "   ...\n",
      "   [182.5  168.5  167.5 ]\n",
      "   [180.25 166.25 165.25]\n",
      "   [179.   165.   164.  ]]\n",
      "\n",
      "  ...\n",
      "\n",
      "  [[188.5  177.5  175.5 ]\n",
      "   [182.25 171.25 169.25]\n",
      "   [188.25 177.25 175.25]\n",
      "   ...\n",
      "   [170.75 158.75 158.75]\n",
      "   [168.75 156.75 156.75]\n",
      "   [186.   174.   174.  ]]\n",
      "\n",
      "  [[185.25 174.25 172.25]\n",
      "   [179.75 168.75 166.75]\n",
      "   [188.   177.   175.  ]\n",
      "   ...\n",
      "   [176.5  164.5  164.5 ]\n",
      "   [174.   162.   162.  ]\n",
      "   [177.5  165.5  165.5 ]]\n",
      "\n",
      "  [[181.5  170.5  168.5 ]\n",
      "   [186.75 175.75 173.75]\n",
      "   [179.5  168.5  166.5 ]\n",
      "   ...\n",
      "   [179.   167.   167.  ]\n",
      "   [187.75 175.75 175.75]\n",
      "   [180.   168.   168.  ]]]\n",
      "\n",
      "\n",
      " [[[115.   121.   121.  ]\n",
      "   [115.   121.   121.  ]\n",
      "   [115.   121.   121.  ]\n",
      "   ...\n",
      "   [135.25 130.25 137.25]\n",
      "   [135.25 130.25 137.25]\n",
      "   [133.   128.   135.  ]]\n",
      "\n",
      "  [[114.5  120.5  120.5 ]\n",
      "   [114.5  120.5  120.5 ]\n",
      "   [114.5  120.5  120.5 ]\n",
      "   ...\n",
      "   [134.75 129.75 136.75]\n",
      "   [134.75 129.75 136.75]\n",
      "   [136.   131.   138.  ]]\n",
      "\n",
      "  [[116.5  122.5  122.5 ]\n",
      "   [116.5  122.5  122.5 ]\n",
      "   [116.5  122.5  122.5 ]\n",
      "   ...\n",
      "   [135.75 130.75 137.75]\n",
      "   [135.75 130.75 137.75]\n",
      "   [131.75 126.75 133.75]]\n",
      "\n",
      "  ...\n",
      "\n",
      "  [[ 93.    92.    88.  ]\n",
      "   [ 93.75  92.75  88.75]\n",
      "   [ 84.25  83.25  79.25]\n",
      "   ...\n",
      "   [ 99.75  97.75 100.75]\n",
      "   [101.    99.   102.  ]\n",
      "   [107.   105.   108.  ]]\n",
      "\n",
      "  [[ 86.    85.    81.  ]\n",
      "   [ 82.    81.    77.  ]\n",
      "   [ 76.25  75.25  71.25]\n",
      "   ...\n",
      "   [106.   104.   107.  ]\n",
      "   [108.   106.   109.  ]\n",
      "   [100.25  98.25 101.25]]\n",
      "\n",
      "  [[ 80.75  79.75  75.75]\n",
      "   [ 81.25  80.25  76.25]\n",
      "   [ 77.5   76.5   72.5 ]\n",
      "   ...\n",
      "   [104.25 102.25 105.25]\n",
      "   [112.25 110.25 113.25]\n",
      "   [ 98.5   96.5   99.5 ]]]\n",
      "\n",
      "\n",
      " [[[ 52.    47.5   44.5 ]\n",
      "   [ 52.75  48.25  45.25]\n",
      "   [ 53.5   48.5   45.5 ]\n",
      "   ...\n",
      "   [ 56.75  49.25  47.75]\n",
      "   [ 55.25  48.25  46.75]\n",
      "   [ 53.5   46.5   45.  ]]\n",
      "\n",
      "  [[104.5   99.5   93.5 ]\n",
      "   [103.25  98.25  92.25]\n",
      "   [102.    97.    91.  ]\n",
      "   ...\n",
      "   [110.75 102.75  99.75]\n",
      "   [109.25 101.25  98.25]\n",
      "   [102.75  94.75  91.75]]\n",
      "\n",
      "  [[104.5   99.5   93.5 ]\n",
      "   [101.    96.    90.  ]\n",
      "   [ 99.    94.    88.  ]\n",
      "   ...\n",
      "   [107.25  99.25  96.25]\n",
      "   [105.5   97.5   94.5 ]\n",
      "   [ 99.25  91.25  88.25]]\n",
      "\n",
      "  ...\n",
      "\n",
      "  [[ 77.25  69.25  58.25]\n",
      "   [ 73.25  65.25  54.25]\n",
      "   [ 73.25  65.25  54.25]\n",
      "   ...\n",
      "   [103.    96.    90.  ]\n",
      "   [105.    98.    92.  ]\n",
      "   [ 91.    84.    78.  ]]\n",
      "\n",
      "  [[ 77.25  69.25  58.25]\n",
      "   [ 81.75  73.75  62.75]\n",
      "   [ 81.    73.    62.  ]\n",
      "   ...\n",
      "   [105.25  98.25  92.25]\n",
      "   [ 98.5   91.5   85.5 ]\n",
      "   [100.    93.    87.  ]]\n",
      "\n",
      "  [[ 72.25  64.25  53.25]\n",
      "   [ 79.25  71.25  60.25]\n",
      "   [ 71.5   63.5   52.5 ]\n",
      "   ...\n",
      "   [106.    99.    93.  ]\n",
      "   [106.75  99.75  93.75]\n",
      "   [103.5   96.5   90.5 ]]]], shape=(32, 128, 128, 3), dtype=float32) (32, 128, 128, 3)\n",
      "tf.Tensor(\n",
      "[[0. 0. 0. ... 0. 0. 0.]\n",
      " [0. 0. 0. ... 0. 0. 0.]\n",
      " [0. 0. 0. ... 0. 0. 0.]\n",
      " ...\n",
      " [0. 0. 0. ... 0. 0. 0.]\n",
      " [0. 0. 0. ... 0. 0. 0.]\n",
      " [0. 0. 1. ... 0. 0. 0.]], shape=(32, 38), dtype=float32) (32, 38)\n"
     ]
    }
   ],
   "source": [
    "for x,y in training_set:\n",
    "    print(x,x.shape)\n",
    "    print(y,y.shape)\n",
    "    break"
   ]
  },
  {
   "cell_type": "code",
   "execution_count": 13,
   "id": "8cc1fc86-83d5-4d06-a605-8093a5069d8a",
   "metadata": {},
   "outputs": [],
   "source": [
    "from tensorflow.keras.layers import Dense,Conv2D,MaxPool2D,Flatten,Dropout\n",
    "from tensorflow.keras.models import Sequential"
   ]
  },
  {
   "cell_type": "code",
   "execution_count": 15,
   "id": "c5ec33d6-6532-4cc2-83fd-f6ff2267b37e",
   "metadata": {},
   "outputs": [],
   "source": [
    "model=Sequential()"
   ]
  },
  {
   "cell_type": "code",
   "execution_count": 17,
   "id": "773bbc2b-73ab-4a5f-884c-b5272beb727d",
   "metadata": {},
   "outputs": [
    {
     "name": "stderr",
     "output_type": "stream",
     "text": [
      "/opt/anaconda3/lib/python3.11/site-packages/keras/src/layers/convolutional/base_conv.py:107: UserWarning: Do not pass an `input_shape`/`input_dim` argument to a layer. When using Sequential models, prefer using an `Input(shape)` object as the first layer in the model instead.\n",
      "  super().__init__(activity_regularizer=activity_regularizer, **kwargs)\n"
     ]
    }
   ],
   "source": [
    "model.add(Conv2D(filters=32,kernel_size=3,padding='same',activation='relu',input_shape=[128,128,3]))\n",
    "model.add(Conv2D(filters=32,kernel_size=3,activation='relu'))\n",
    "model.add(MaxPool2D(pool_size=2,strides=2))"
   ]
  },
  {
   "cell_type": "code",
   "execution_count": 19,
   "id": "df5cc581-8bc0-49dc-8bb1-151a13a9315d",
   "metadata": {},
   "outputs": [],
   "source": [
    "model.add(Conv2D(filters=64,kernel_size=3,padding='same',activation='relu'))\n",
    "model.add(Conv2D(filters=64,kernel_size=3,activation='relu'))\n",
    "model.add(MaxPool2D(pool_size=2,strides=2))"
   ]
  },
  {
   "cell_type": "code",
   "execution_count": 21,
   "id": "3f118ea9-ff7a-4a8b-8851-22fcfd5ec899",
   "metadata": {},
   "outputs": [],
   "source": [
    "model.add(Conv2D(filters=128,kernel_size=3,padding='same',activation='relu'))\n",
    "model.add(Conv2D(filters=128,kernel_size=3,activation='relu'))\n",
    "model.add(MaxPool2D(pool_size=2,strides=2))"
   ]
  },
  {
   "cell_type": "code",
   "execution_count": 23,
   "id": "674d6474-3d7e-47f4-a2ad-defb41936def",
   "metadata": {},
   "outputs": [],
   "source": [
    "model.add(Conv2D(filters=256,kernel_size=3,padding='same',activation='relu'))\n",
    "model.add(Conv2D(filters=256,kernel_size=3,activation='relu'))\n",
    "model.add(MaxPool2D(pool_size=2,strides=2))"
   ]
  },
  {
   "cell_type": "code",
   "execution_count": 18,
   "id": "d02f5e9a-d2cd-4258-b13f-e6b438d8bcb3",
   "metadata": {},
   "outputs": [],
   "source": [
    "model.add(Conv2D(filters=512,kernel_size=3,padding='same',activation='relu'))\n",
    "model.add(Conv2D(filters=512,kernel_size=3,activation='relu'))\n",
    "model.add(MaxPool2D(pool_size=2,strides=2))"
   ]
  },
  {
   "cell_type": "code",
   "execution_count": 25,
   "id": "a7aafb66-3f66-4bc6-b33c-e0d5c51e8619",
   "metadata": {},
   "outputs": [],
   "source": [
    "model.add(Dropout(0.25))"
   ]
  },
  {
   "cell_type": "code",
   "execution_count": 27,
   "id": "5b354119-c3bf-42db-8ebf-a7ac9e1b90c7",
   "metadata": {},
   "outputs": [],
   "source": [
    "model.add(Flatten())"
   ]
  },
  {
   "cell_type": "code",
   "execution_count": 29,
   "id": "ccb4c618-9a97-4135-a1cf-672d175915c6",
   "metadata": {},
   "outputs": [],
   "source": [
    "model.add(Dense(units=1500,activation='relu'))"
   ]
  },
  {
   "cell_type": "code",
   "execution_count": 31,
   "id": "3e1db916-e127-4636-930f-115a8313f031",
   "metadata": {},
   "outputs": [],
   "source": [
    "model.add(Dropout(0.4))"
   ]
  },
  {
   "cell_type": "code",
   "execution_count": 33,
   "id": "558dbf80-9b55-44e8-84d6-5706d05f9cef",
   "metadata": {},
   "outputs": [],
   "source": [
    "model.add(Dense(units=38,activation='softmax'))"
   ]
  },
  {
   "cell_type": "code",
   "execution_count": 35,
   "id": "28018ea4-15f4-4a69-bdda-d62edd710cb6",
   "metadata": {},
   "outputs": [],
   "source": [
    "model.compile(optimizer=tf.keras.optimizers.Adam(\n",
    "    learning_rate=0.00001),loss='categorical_crossentropy',metrics=['accuracy'])"
   ]
  },
  {
   "cell_type": "code",
   "execution_count": 37,
   "id": "f8e9dd04-0b05-4f1c-81b9-f7a1aa1cdf86",
   "metadata": {},
   "outputs": [
    {
     "data": {
      "text/html": [
       "<pre style=\"white-space:pre;overflow-x:auto;line-height:normal;font-family:Menlo,'DejaVu Sans Mono',consolas,'Courier New',monospace\"><span style=\"font-weight: bold\">Model: \"sequential\"</span>\n",
       "</pre>\n"
      ],
      "text/plain": [
       "\u001b[1mModel: \"sequential\"\u001b[0m\n"
      ]
     },
     "metadata": {},
     "output_type": "display_data"
    },
    {
     "data": {
      "text/html": [
       "<pre style=\"white-space:pre;overflow-x:auto;line-height:normal;font-family:Menlo,'DejaVu Sans Mono',consolas,'Courier New',monospace\">┏━━━━━━━━━━━━━━━━━━━━━━━━━━━━━━━━━┳━━━━━━━━━━━━━━━━━━━━━━━━┳━━━━━━━━━━━━━━━┓\n",
       "┃<span style=\"font-weight: bold\"> Layer (type)                    </span>┃<span style=\"font-weight: bold\"> Output Shape           </span>┃<span style=\"font-weight: bold\">       Param # </span>┃\n",
       "┡━━━━━━━━━━━━━━━━━━━━━━━━━━━━━━━━━╇━━━━━━━━━━━━━━━━━━━━━━━━╇━━━━━━━━━━━━━━━┩\n",
       "│ conv2d (<span style=\"color: #0087ff; text-decoration-color: #0087ff\">Conv2D</span>)                 │ (<span style=\"color: #00d7ff; text-decoration-color: #00d7ff\">None</span>, <span style=\"color: #00af00; text-decoration-color: #00af00\">128</span>, <span style=\"color: #00af00; text-decoration-color: #00af00\">128</span>, <span style=\"color: #00af00; text-decoration-color: #00af00\">32</span>)   │           <span style=\"color: #00af00; text-decoration-color: #00af00\">896</span> │\n",
       "├─────────────────────────────────┼────────────────────────┼───────────────┤\n",
       "│ conv2d_1 (<span style=\"color: #0087ff; text-decoration-color: #0087ff\">Conv2D</span>)               │ (<span style=\"color: #00d7ff; text-decoration-color: #00d7ff\">None</span>, <span style=\"color: #00af00; text-decoration-color: #00af00\">126</span>, <span style=\"color: #00af00; text-decoration-color: #00af00\">126</span>, <span style=\"color: #00af00; text-decoration-color: #00af00\">32</span>)   │         <span style=\"color: #00af00; text-decoration-color: #00af00\">9,248</span> │\n",
       "├─────────────────────────────────┼────────────────────────┼───────────────┤\n",
       "│ max_pooling2d (<span style=\"color: #0087ff; text-decoration-color: #0087ff\">MaxPooling2D</span>)    │ (<span style=\"color: #00d7ff; text-decoration-color: #00d7ff\">None</span>, <span style=\"color: #00af00; text-decoration-color: #00af00\">63</span>, <span style=\"color: #00af00; text-decoration-color: #00af00\">63</span>, <span style=\"color: #00af00; text-decoration-color: #00af00\">32</span>)     │             <span style=\"color: #00af00; text-decoration-color: #00af00\">0</span> │\n",
       "├─────────────────────────────────┼────────────────────────┼───────────────┤\n",
       "│ conv2d_2 (<span style=\"color: #0087ff; text-decoration-color: #0087ff\">Conv2D</span>)               │ (<span style=\"color: #00d7ff; text-decoration-color: #00d7ff\">None</span>, <span style=\"color: #00af00; text-decoration-color: #00af00\">63</span>, <span style=\"color: #00af00; text-decoration-color: #00af00\">63</span>, <span style=\"color: #00af00; text-decoration-color: #00af00\">64</span>)     │        <span style=\"color: #00af00; text-decoration-color: #00af00\">18,496</span> │\n",
       "├─────────────────────────────────┼────────────────────────┼───────────────┤\n",
       "│ conv2d_3 (<span style=\"color: #0087ff; text-decoration-color: #0087ff\">Conv2D</span>)               │ (<span style=\"color: #00d7ff; text-decoration-color: #00d7ff\">None</span>, <span style=\"color: #00af00; text-decoration-color: #00af00\">61</span>, <span style=\"color: #00af00; text-decoration-color: #00af00\">61</span>, <span style=\"color: #00af00; text-decoration-color: #00af00\">64</span>)     │        <span style=\"color: #00af00; text-decoration-color: #00af00\">36,928</span> │\n",
       "├─────────────────────────────────┼────────────────────────┼───────────────┤\n",
       "│ max_pooling2d_1 (<span style=\"color: #0087ff; text-decoration-color: #0087ff\">MaxPooling2D</span>)  │ (<span style=\"color: #00d7ff; text-decoration-color: #00d7ff\">None</span>, <span style=\"color: #00af00; text-decoration-color: #00af00\">30</span>, <span style=\"color: #00af00; text-decoration-color: #00af00\">30</span>, <span style=\"color: #00af00; text-decoration-color: #00af00\">64</span>)     │             <span style=\"color: #00af00; text-decoration-color: #00af00\">0</span> │\n",
       "├─────────────────────────────────┼────────────────────────┼───────────────┤\n",
       "│ conv2d_4 (<span style=\"color: #0087ff; text-decoration-color: #0087ff\">Conv2D</span>)               │ (<span style=\"color: #00d7ff; text-decoration-color: #00d7ff\">None</span>, <span style=\"color: #00af00; text-decoration-color: #00af00\">30</span>, <span style=\"color: #00af00; text-decoration-color: #00af00\">30</span>, <span style=\"color: #00af00; text-decoration-color: #00af00\">128</span>)    │        <span style=\"color: #00af00; text-decoration-color: #00af00\">73,856</span> │\n",
       "├─────────────────────────────────┼────────────────────────┼───────────────┤\n",
       "│ conv2d_5 (<span style=\"color: #0087ff; text-decoration-color: #0087ff\">Conv2D</span>)               │ (<span style=\"color: #00d7ff; text-decoration-color: #00d7ff\">None</span>, <span style=\"color: #00af00; text-decoration-color: #00af00\">28</span>, <span style=\"color: #00af00; text-decoration-color: #00af00\">28</span>, <span style=\"color: #00af00; text-decoration-color: #00af00\">128</span>)    │       <span style=\"color: #00af00; text-decoration-color: #00af00\">147,584</span> │\n",
       "├─────────────────────────────────┼────────────────────────┼───────────────┤\n",
       "│ max_pooling2d_2 (<span style=\"color: #0087ff; text-decoration-color: #0087ff\">MaxPooling2D</span>)  │ (<span style=\"color: #00d7ff; text-decoration-color: #00d7ff\">None</span>, <span style=\"color: #00af00; text-decoration-color: #00af00\">14</span>, <span style=\"color: #00af00; text-decoration-color: #00af00\">14</span>, <span style=\"color: #00af00; text-decoration-color: #00af00\">128</span>)    │             <span style=\"color: #00af00; text-decoration-color: #00af00\">0</span> │\n",
       "├─────────────────────────────────┼────────────────────────┼───────────────┤\n",
       "│ conv2d_6 (<span style=\"color: #0087ff; text-decoration-color: #0087ff\">Conv2D</span>)               │ (<span style=\"color: #00d7ff; text-decoration-color: #00d7ff\">None</span>, <span style=\"color: #00af00; text-decoration-color: #00af00\">14</span>, <span style=\"color: #00af00; text-decoration-color: #00af00\">14</span>, <span style=\"color: #00af00; text-decoration-color: #00af00\">256</span>)    │       <span style=\"color: #00af00; text-decoration-color: #00af00\">295,168</span> │\n",
       "├─────────────────────────────────┼────────────────────────┼───────────────┤\n",
       "│ conv2d_7 (<span style=\"color: #0087ff; text-decoration-color: #0087ff\">Conv2D</span>)               │ (<span style=\"color: #00d7ff; text-decoration-color: #00d7ff\">None</span>, <span style=\"color: #00af00; text-decoration-color: #00af00\">12</span>, <span style=\"color: #00af00; text-decoration-color: #00af00\">12</span>, <span style=\"color: #00af00; text-decoration-color: #00af00\">256</span>)    │       <span style=\"color: #00af00; text-decoration-color: #00af00\">590,080</span> │\n",
       "├─────────────────────────────────┼────────────────────────┼───────────────┤\n",
       "│ max_pooling2d_3 (<span style=\"color: #0087ff; text-decoration-color: #0087ff\">MaxPooling2D</span>)  │ (<span style=\"color: #00d7ff; text-decoration-color: #00d7ff\">None</span>, <span style=\"color: #00af00; text-decoration-color: #00af00\">6</span>, <span style=\"color: #00af00; text-decoration-color: #00af00\">6</span>, <span style=\"color: #00af00; text-decoration-color: #00af00\">256</span>)      │             <span style=\"color: #00af00; text-decoration-color: #00af00\">0</span> │\n",
       "├─────────────────────────────────┼────────────────────────┼───────────────┤\n",
       "│ dropout (<span style=\"color: #0087ff; text-decoration-color: #0087ff\">Dropout</span>)               │ (<span style=\"color: #00d7ff; text-decoration-color: #00d7ff\">None</span>, <span style=\"color: #00af00; text-decoration-color: #00af00\">6</span>, <span style=\"color: #00af00; text-decoration-color: #00af00\">6</span>, <span style=\"color: #00af00; text-decoration-color: #00af00\">256</span>)      │             <span style=\"color: #00af00; text-decoration-color: #00af00\">0</span> │\n",
       "├─────────────────────────────────┼────────────────────────┼───────────────┤\n",
       "│ flatten (<span style=\"color: #0087ff; text-decoration-color: #0087ff\">Flatten</span>)               │ (<span style=\"color: #00d7ff; text-decoration-color: #00d7ff\">None</span>, <span style=\"color: #00af00; text-decoration-color: #00af00\">9216</span>)           │             <span style=\"color: #00af00; text-decoration-color: #00af00\">0</span> │\n",
       "├─────────────────────────────────┼────────────────────────┼───────────────┤\n",
       "│ dense (<span style=\"color: #0087ff; text-decoration-color: #0087ff\">Dense</span>)                   │ (<span style=\"color: #00d7ff; text-decoration-color: #00d7ff\">None</span>, <span style=\"color: #00af00; text-decoration-color: #00af00\">1500</span>)           │    <span style=\"color: #00af00; text-decoration-color: #00af00\">13,825,500</span> │\n",
       "├─────────────────────────────────┼────────────────────────┼───────────────┤\n",
       "│ dropout_1 (<span style=\"color: #0087ff; text-decoration-color: #0087ff\">Dropout</span>)             │ (<span style=\"color: #00d7ff; text-decoration-color: #00d7ff\">None</span>, <span style=\"color: #00af00; text-decoration-color: #00af00\">1500</span>)           │             <span style=\"color: #00af00; text-decoration-color: #00af00\">0</span> │\n",
       "├─────────────────────────────────┼────────────────────────┼───────────────┤\n",
       "│ dense_1 (<span style=\"color: #0087ff; text-decoration-color: #0087ff\">Dense</span>)                 │ (<span style=\"color: #00d7ff; text-decoration-color: #00d7ff\">None</span>, <span style=\"color: #00af00; text-decoration-color: #00af00\">38</span>)             │        <span style=\"color: #00af00; text-decoration-color: #00af00\">57,038</span> │\n",
       "└─────────────────────────────────┴────────────────────────┴───────────────┘\n",
       "</pre>\n"
      ],
      "text/plain": [
       "┏━━━━━━━━━━━━━━━━━━━━━━━━━━━━━━━━━┳━━━━━━━━━━━━━━━━━━━━━━━━┳━━━━━━━━━━━━━━━┓\n",
       "┃\u001b[1m \u001b[0m\u001b[1mLayer (type)                   \u001b[0m\u001b[1m \u001b[0m┃\u001b[1m \u001b[0m\u001b[1mOutput Shape          \u001b[0m\u001b[1m \u001b[0m┃\u001b[1m \u001b[0m\u001b[1m      Param #\u001b[0m\u001b[1m \u001b[0m┃\n",
       "┡━━━━━━━━━━━━━━━━━━━━━━━━━━━━━━━━━╇━━━━━━━━━━━━━━━━━━━━━━━━╇━━━━━━━━━━━━━━━┩\n",
       "│ conv2d (\u001b[38;5;33mConv2D\u001b[0m)                 │ (\u001b[38;5;45mNone\u001b[0m, \u001b[38;5;34m128\u001b[0m, \u001b[38;5;34m128\u001b[0m, \u001b[38;5;34m32\u001b[0m)   │           \u001b[38;5;34m896\u001b[0m │\n",
       "├─────────────────────────────────┼────────────────────────┼───────────────┤\n",
       "│ conv2d_1 (\u001b[38;5;33mConv2D\u001b[0m)               │ (\u001b[38;5;45mNone\u001b[0m, \u001b[38;5;34m126\u001b[0m, \u001b[38;5;34m126\u001b[0m, \u001b[38;5;34m32\u001b[0m)   │         \u001b[38;5;34m9,248\u001b[0m │\n",
       "├─────────────────────────────────┼────────────────────────┼───────────────┤\n",
       "│ max_pooling2d (\u001b[38;5;33mMaxPooling2D\u001b[0m)    │ (\u001b[38;5;45mNone\u001b[0m, \u001b[38;5;34m63\u001b[0m, \u001b[38;5;34m63\u001b[0m, \u001b[38;5;34m32\u001b[0m)     │             \u001b[38;5;34m0\u001b[0m │\n",
       "├─────────────────────────────────┼────────────────────────┼───────────────┤\n",
       "│ conv2d_2 (\u001b[38;5;33mConv2D\u001b[0m)               │ (\u001b[38;5;45mNone\u001b[0m, \u001b[38;5;34m63\u001b[0m, \u001b[38;5;34m63\u001b[0m, \u001b[38;5;34m64\u001b[0m)     │        \u001b[38;5;34m18,496\u001b[0m │\n",
       "├─────────────────────────────────┼────────────────────────┼───────────────┤\n",
       "│ conv2d_3 (\u001b[38;5;33mConv2D\u001b[0m)               │ (\u001b[38;5;45mNone\u001b[0m, \u001b[38;5;34m61\u001b[0m, \u001b[38;5;34m61\u001b[0m, \u001b[38;5;34m64\u001b[0m)     │        \u001b[38;5;34m36,928\u001b[0m │\n",
       "├─────────────────────────────────┼────────────────────────┼───────────────┤\n",
       "│ max_pooling2d_1 (\u001b[38;5;33mMaxPooling2D\u001b[0m)  │ (\u001b[38;5;45mNone\u001b[0m, \u001b[38;5;34m30\u001b[0m, \u001b[38;5;34m30\u001b[0m, \u001b[38;5;34m64\u001b[0m)     │             \u001b[38;5;34m0\u001b[0m │\n",
       "├─────────────────────────────────┼────────────────────────┼───────────────┤\n",
       "│ conv2d_4 (\u001b[38;5;33mConv2D\u001b[0m)               │ (\u001b[38;5;45mNone\u001b[0m, \u001b[38;5;34m30\u001b[0m, \u001b[38;5;34m30\u001b[0m, \u001b[38;5;34m128\u001b[0m)    │        \u001b[38;5;34m73,856\u001b[0m │\n",
       "├─────────────────────────────────┼────────────────────────┼───────────────┤\n",
       "│ conv2d_5 (\u001b[38;5;33mConv2D\u001b[0m)               │ (\u001b[38;5;45mNone\u001b[0m, \u001b[38;5;34m28\u001b[0m, \u001b[38;5;34m28\u001b[0m, \u001b[38;5;34m128\u001b[0m)    │       \u001b[38;5;34m147,584\u001b[0m │\n",
       "├─────────────────────────────────┼────────────────────────┼───────────────┤\n",
       "│ max_pooling2d_2 (\u001b[38;5;33mMaxPooling2D\u001b[0m)  │ (\u001b[38;5;45mNone\u001b[0m, \u001b[38;5;34m14\u001b[0m, \u001b[38;5;34m14\u001b[0m, \u001b[38;5;34m128\u001b[0m)    │             \u001b[38;5;34m0\u001b[0m │\n",
       "├─────────────────────────────────┼────────────────────────┼───────────────┤\n",
       "│ conv2d_6 (\u001b[38;5;33mConv2D\u001b[0m)               │ (\u001b[38;5;45mNone\u001b[0m, \u001b[38;5;34m14\u001b[0m, \u001b[38;5;34m14\u001b[0m, \u001b[38;5;34m256\u001b[0m)    │       \u001b[38;5;34m295,168\u001b[0m │\n",
       "├─────────────────────────────────┼────────────────────────┼───────────────┤\n",
       "│ conv2d_7 (\u001b[38;5;33mConv2D\u001b[0m)               │ (\u001b[38;5;45mNone\u001b[0m, \u001b[38;5;34m12\u001b[0m, \u001b[38;5;34m12\u001b[0m, \u001b[38;5;34m256\u001b[0m)    │       \u001b[38;5;34m590,080\u001b[0m │\n",
       "├─────────────────────────────────┼────────────────────────┼───────────────┤\n",
       "│ max_pooling2d_3 (\u001b[38;5;33mMaxPooling2D\u001b[0m)  │ (\u001b[38;5;45mNone\u001b[0m, \u001b[38;5;34m6\u001b[0m, \u001b[38;5;34m6\u001b[0m, \u001b[38;5;34m256\u001b[0m)      │             \u001b[38;5;34m0\u001b[0m │\n",
       "├─────────────────────────────────┼────────────────────────┼───────────────┤\n",
       "│ dropout (\u001b[38;5;33mDropout\u001b[0m)               │ (\u001b[38;5;45mNone\u001b[0m, \u001b[38;5;34m6\u001b[0m, \u001b[38;5;34m6\u001b[0m, \u001b[38;5;34m256\u001b[0m)      │             \u001b[38;5;34m0\u001b[0m │\n",
       "├─────────────────────────────────┼────────────────────────┼───────────────┤\n",
       "│ flatten (\u001b[38;5;33mFlatten\u001b[0m)               │ (\u001b[38;5;45mNone\u001b[0m, \u001b[38;5;34m9216\u001b[0m)           │             \u001b[38;5;34m0\u001b[0m │\n",
       "├─────────────────────────────────┼────────────────────────┼───────────────┤\n",
       "│ dense (\u001b[38;5;33mDense\u001b[0m)                   │ (\u001b[38;5;45mNone\u001b[0m, \u001b[38;5;34m1500\u001b[0m)           │    \u001b[38;5;34m13,825,500\u001b[0m │\n",
       "├─────────────────────────────────┼────────────────────────┼───────────────┤\n",
       "│ dropout_1 (\u001b[38;5;33mDropout\u001b[0m)             │ (\u001b[38;5;45mNone\u001b[0m, \u001b[38;5;34m1500\u001b[0m)           │             \u001b[38;5;34m0\u001b[0m │\n",
       "├─────────────────────────────────┼────────────────────────┼───────────────┤\n",
       "│ dense_1 (\u001b[38;5;33mDense\u001b[0m)                 │ (\u001b[38;5;45mNone\u001b[0m, \u001b[38;5;34m38\u001b[0m)             │        \u001b[38;5;34m57,038\u001b[0m │\n",
       "└─────────────────────────────────┴────────────────────────┴───────────────┘\n"
      ]
     },
     "metadata": {},
     "output_type": "display_data"
    },
    {
     "data": {
      "text/html": [
       "<pre style=\"white-space:pre;overflow-x:auto;line-height:normal;font-family:Menlo,'DejaVu Sans Mono',consolas,'Courier New',monospace\"><span style=\"font-weight: bold\"> Total params: </span><span style=\"color: #00af00; text-decoration-color: #00af00\">15,054,794</span> (57.43 MB)\n",
       "</pre>\n"
      ],
      "text/plain": [
       "\u001b[1m Total params: \u001b[0m\u001b[38;5;34m15,054,794\u001b[0m (57.43 MB)\n"
      ]
     },
     "metadata": {},
     "output_type": "display_data"
    },
    {
     "data": {
      "text/html": [
       "<pre style=\"white-space:pre;overflow-x:auto;line-height:normal;font-family:Menlo,'DejaVu Sans Mono',consolas,'Courier New',monospace\"><span style=\"font-weight: bold\"> Trainable params: </span><span style=\"color: #00af00; text-decoration-color: #00af00\">15,054,794</span> (57.43 MB)\n",
       "</pre>\n"
      ],
      "text/plain": [
       "\u001b[1m Trainable params: \u001b[0m\u001b[38;5;34m15,054,794\u001b[0m (57.43 MB)\n"
      ]
     },
     "metadata": {},
     "output_type": "display_data"
    },
    {
     "data": {
      "text/html": [
       "<pre style=\"white-space:pre;overflow-x:auto;line-height:normal;font-family:Menlo,'DejaVu Sans Mono',consolas,'Courier New',monospace\"><span style=\"font-weight: bold\"> Non-trainable params: </span><span style=\"color: #00af00; text-decoration-color: #00af00\">0</span> (0.00 B)\n",
       "</pre>\n"
      ],
      "text/plain": [
       "\u001b[1m Non-trainable params: \u001b[0m\u001b[38;5;34m0\u001b[0m (0.00 B)\n"
      ]
     },
     "metadata": {},
     "output_type": "display_data"
    }
   ],
   "source": [
    "model.summary()"
   ]
  },
  {
   "cell_type": "code",
   "execution_count": null,
   "id": "087e0a6e-941c-4891-8cba-8d82c09fc7ce",
   "metadata": {},
   "outputs": [
    {
     "name": "stdout",
     "output_type": "stream",
     "text": [
      "Epoch 1/5\n",
      "\u001b[1m  33/2197\u001b[0m \u001b[37m━━━━━━━━━━━━━━━━━━━━\u001b[0m \u001b[1m52:29\u001b[0m 1s/step - accuracy: 0.0164 - loss: 6.4229"
     ]
    }
   ],
   "source": [
    "model.fit(x=training_set,validation_data=validation_set,epochs=5)"
   ]
  },
  {
   "cell_type": "code",
   "execution_count": null,
   "id": "43cb40a6-0d2c-4549-867e-43c4d8803054",
   "metadata": {},
   "outputs": [],
   "source": []
  }
 ],
 "metadata": {
  "kernelspec": {
   "display_name": "Python 3 (ipykernel)",
   "language": "python",
   "name": "python3"
  },
  "language_info": {
   "codemirror_mode": {
    "name": "ipython",
    "version": 3
   },
   "file_extension": ".py",
   "mimetype": "text/x-python",
   "name": "python",
   "nbconvert_exporter": "python",
   "pygments_lexer": "ipython3",
   "version": "3.11.7"
  }
 },
 "nbformat": 4,
 "nbformat_minor": 5
}
