{
 "cells": [
  {
   "cell_type": "markdown",
   "id": "ee1c1fdc-c64a-4054-a379-3afc7e248aea",
   "metadata": {},
   "source": [
    "## IMPORTING LIBRARIES"
   ]
  },
  {
   "cell_type": "code",
   "execution_count": 1,
   "id": "d4500952-e0b3-4e5d-9b23-3fe233b4636a",
   "metadata": {},
   "outputs": [],
   "source": [
    "import tensorflow as tf\n",
    "import matplotlib.pyplot as plt\n",
    "import pandas as pd\n",
    "import seaborn as sns\n",
    "%matplotlib inline"
   ]
  },
  {
   "cell_type": "markdown",
   "id": "3a19f9d3-86f0-4bad-8541-8242612c6641",
   "metadata": {},
   "source": [
    "## DATA PREPROCESSING"
   ]
  },
  {
   "cell_type": "markdown",
   "id": "3a4cd4ea-6f48-4158-8056-7ab3708327ec",
   "metadata": {},
   "source": [
    "### TRAINING IMAGE PREPROCESSING"
   ]
  },
  {
   "cell_type": "code",
   "execution_count": 3,
   "id": "b3f827e2-24a4-42a3-b89f-8bd4dc9ab5db",
   "metadata": {},
   "outputs": [
    {
     "name": "stdout",
     "output_type": "stream",
     "text": [
      "Found 70295 files belonging to 38 classes.\n"
     ]
    }
   ],
   "source": [
    "training_set=tf.keras.utils.image_dataset_from_directory(\n",
    "    'train',\n",
    "    labels=\"inferred\",\n",
    "    label_mode=\"categorical\",\n",
    "    class_names=None,\n",
    "    color_mode=\"rgb\",\n",
    "    batch_size=64,\n",
    "    image_size=(64, 64),\n",
    "    shuffle=True,\n",
    "    seed=None,\n",
    "    validation_split=None,\n",
    "    subset=None,\n",
    "    interpolation=\"bilinear\",\n",
    "    follow_links=False,\n",
    "    crop_to_aspect_ratio=False,\n",
    ")"
   ]
  },
  {
   "cell_type": "markdown",
   "id": "7f7bb19b-d1bd-4324-8000-1cdda9cabce6",
   "metadata": {},
   "source": [
    "### VALIDATION IMAGE PREPROCESSING"
   ]
  },
  {
   "cell_type": "code",
   "execution_count": 5,
   "id": "bfade53e-8fc9-470e-bcfe-dbda8ef849f5",
   "metadata": {},
   "outputs": [
    {
     "name": "stdout",
     "output_type": "stream",
     "text": [
      "Found 17572 files belonging to 38 classes.\n"
     ]
    }
   ],
   "source": [
    "validation_set=tf.keras.utils.image_dataset_from_directory(\n",
    "    'valid',\n",
    "    labels=\"inferred\",\n",
    "    label_mode=\"categorical\",\n",
    "    class_names=None,\n",
    "    color_mode=\"rgb\",\n",
    "    batch_size=64,\n",
    "    image_size=(64, 64),\n",
    "    shuffle=True,\n",
    "    seed=None,\n",
    "    validation_split=None,\n",
    "    subset=None,\n",
    "    interpolation=\"bilinear\",\n",
    "    follow_links=False,\n",
    "    crop_to_aspect_ratio=False,\n",
    ")"
   ]
  },
  {
   "cell_type": "code",
   "execution_count": 8,
   "id": "9dc17d8c-5b01-4fb5-819f-dd19d96466de",
   "metadata": {},
   "outputs": [
    {
     "name": "stdout",
     "output_type": "stream",
     "text": [
      "tf.Tensor(\n",
      "[[[[109.25  65.25  98.25]\n",
      "   [106.5   62.5   95.5 ]\n",
      "   [103.    59.    92.  ]\n",
      "   ...\n",
      "   [106.5   61.5   92.5 ]\n",
      "   [113.5   68.5   99.5 ]\n",
      "   [108.    63.    94.  ]]\n",
      "\n",
      "  [[108.    67.   101.  ]\n",
      "   [115.25  74.25 108.25]\n",
      "   [111.25  70.25 104.25]\n",
      "   ...\n",
      "   [109.5   65.    98.  ]\n",
      "   [100.25  55.75  88.75]\n",
      "   [111.    66.5   99.5 ]]\n",
      "\n",
      "  [[118.25  78.25 114.25]\n",
      "   [ 98.75  58.75  94.75]\n",
      "   [110.75  70.75 106.75]\n",
      "   ...\n",
      "   [108.    66.5  101.5 ]\n",
      "   [103.75  62.25  97.25]\n",
      "   [ 99.5   58.    93.  ]]\n",
      "\n",
      "  ...\n",
      "\n",
      "  [[141.75 143.75 181.75]\n",
      "   [161.25 164.25 199.25]\n",
      "   [160.5  163.5  196.5 ]\n",
      "   ...\n",
      "   [164.25 165.25 195.25]\n",
      "   [152.   153.   183.  ]\n",
      "   [160.25 161.25 191.25]]\n",
      "\n",
      "  [[139.   141.   179.  ]\n",
      "   [146.   149.   184.  ]\n",
      "   [144.25 147.25 180.25]\n",
      "   ...\n",
      "   [162.25 163.25 193.25]\n",
      "   [170.75 171.75 201.75]\n",
      "   [158.   159.   189.  ]]\n",
      "\n",
      "  [[149.25 151.25 189.25]\n",
      "   [148.   151.   186.  ]\n",
      "   [153.5  156.5  189.5 ]\n",
      "   ...\n",
      "   [161.   162.   192.  ]\n",
      "   [151.75 152.75 182.75]\n",
      "   [160.25 161.25 191.25]]]\n",
      "\n",
      "\n",
      " [[[165.5  171.5  187.5 ]\n",
      "   [173.   179.   195.  ]\n",
      "   [174.5  180.5  196.5 ]\n",
      "   ...\n",
      "   [118.   121.   138.  ]\n",
      "   [115.5  118.5  135.5 ]\n",
      "   [109.   112.   129.  ]]\n",
      "\n",
      "  [[174.5  180.5  196.5 ]\n",
      "   [172.75 178.75 194.75]\n",
      "   [177.75 183.75 199.75]\n",
      "   ...\n",
      "   [107.75 110.75 127.75]\n",
      "   [134.25 137.25 154.25]\n",
      "   [116.   119.   136.  ]]\n",
      "\n",
      "  [[168.25 174.25 190.25]\n",
      "   [176.25 182.25 198.25]\n",
      "   [182.25 188.25 204.25]\n",
      "   ...\n",
      "   [133.75 136.75 153.75]\n",
      "   [121.25 124.25 141.25]\n",
      "   [117.5  120.5  137.5 ]]\n",
      "\n",
      "  ...\n",
      "\n",
      "  [[156.   158.   171.  ]\n",
      "   [160.5  162.5  175.5 ]\n",
      "   [157.25 159.25 172.25]\n",
      "   ...\n",
      "   [112.75 110.75 122.75]\n",
      "   [128.   126.   138.  ]\n",
      "   [128.75 126.75 138.75]]\n",
      "\n",
      "  [[156.75 158.75 171.75]\n",
      "   [155.   157.   170.  ]\n",
      "   [152.75 154.75 167.75]\n",
      "   ...\n",
      "   [125.25 123.25 137.25]\n",
      "   [135.5  133.5  147.5 ]\n",
      "   [122.5  120.5  134.5 ]]\n",
      "\n",
      "  [[148.   150.   163.  ]\n",
      "   [146.25 148.25 161.25]\n",
      "   [146.75 148.75 161.75]\n",
      "   ...\n",
      "   [119.25 116.25 133.25]\n",
      "   [102.25  99.25 116.25]\n",
      "   [102.    99.   116.  ]]]\n",
      "\n",
      "\n",
      " [[[176.75 158.75 158.75]\n",
      "   [172.   154.   154.  ]\n",
      "   [175.   157.   157.  ]\n",
      "   ...\n",
      "   [160.75 142.75 140.75]\n",
      "   [151.   133.   131.  ]\n",
      "   [135.   117.   115.  ]]\n",
      "\n",
      "  [[189.   171.   171.  ]\n",
      "   [183.75 165.75 165.75]\n",
      "   [157.75 139.75 139.75]\n",
      "   ...\n",
      "   [163.5  145.5  143.5 ]\n",
      "   [159.25 141.25 139.25]\n",
      "   [157.5  139.5  137.5 ]]\n",
      "\n",
      "  [[163.25 145.25 145.25]\n",
      "   [175.75 157.75 157.75]\n",
      "   [179.   161.   161.  ]\n",
      "   ...\n",
      "   [159.5  141.5  139.5 ]\n",
      "   [170.75 152.75 150.75]\n",
      "   [158.75 140.75 138.75]]\n",
      "\n",
      "  ...\n",
      "\n",
      "  [[150.75 130.75 129.75]\n",
      "   [151.75 131.75 130.75]\n",
      "   [152.25 132.25 131.25]\n",
      "   ...\n",
      "   [143.5  123.5  124.5 ]\n",
      "   [135.75 115.75 116.75]\n",
      "   [138.   118.   119.  ]]\n",
      "\n",
      "  [[151.5  131.5  130.5 ]\n",
      "   [154.75 134.75 133.75]\n",
      "   [157.75 137.75 136.75]\n",
      "   ...\n",
      "   [135.5  115.5  116.5 ]\n",
      "   [144.5  124.5  125.5 ]\n",
      "   [142.5  122.5  123.5 ]]\n",
      "\n",
      "  [[146.25 126.25 125.25]\n",
      "   [145.5  125.5  124.5 ]\n",
      "   [146.   126.   125.  ]\n",
      "   ...\n",
      "   [130.25 110.25 111.25]\n",
      "   [137.75 117.75 118.75]\n",
      "   [137.   117.   118.  ]]]\n",
      "\n",
      "\n",
      " ...\n",
      "\n",
      "\n",
      " [[[135.   126.   129.  ]\n",
      "   [141.   132.   135.  ]\n",
      "   [142.75 133.75 136.75]\n",
      "   ...\n",
      "   [182.25 176.25 180.25]\n",
      "   [179.25 173.25 177.25]\n",
      "   [189.5  183.5  187.5 ]]\n",
      "\n",
      "  [[124.   115.   118.  ]\n",
      "   [120.5  111.5  114.5 ]\n",
      "   [132.25 123.25 126.25]\n",
      "   ...\n",
      "   [189.75 183.75 187.75]\n",
      "   [175.   169.   173.  ]\n",
      "   [188.   182.   186.  ]]\n",
      "\n",
      "  [[122.75 113.75 116.75]\n",
      "   [121.   112.   115.  ]\n",
      "   [134.25 125.25 128.25]\n",
      "   ...\n",
      "   [177.5  171.5  175.5 ]\n",
      "   [170.25 164.25 168.25]\n",
      "   [183.5  177.5  181.5 ]]\n",
      "\n",
      "  ...\n",
      "\n",
      "  [[129.25 122.25 130.25]\n",
      "   [114.75 107.75 115.25]\n",
      "   [129.5  123.5  127.5 ]\n",
      "   ...\n",
      "   [139.5  133.5  145.5 ]\n",
      "   [150.   144.   156.  ]\n",
      "   [138.75 132.75 144.75]]\n",
      "\n",
      "  [[117.25 110.25 118.25]\n",
      "   [109.5  102.5  110.  ]\n",
      "   [120.25 114.25 118.25]\n",
      "   ...\n",
      "   [139.   133.   145.  ]\n",
      "   [143.5  137.5  149.5 ]\n",
      "   [147.25 141.25 153.25]]\n",
      "\n",
      "  [[115.   108.   116.  ]\n",
      "   [107.25 100.25 107.75]\n",
      "   [128.75 122.75 126.75]\n",
      "   ...\n",
      "   [142.75 136.75 148.75]\n",
      "   [138.   132.   144.  ]\n",
      "   [149.25 143.25 155.25]]]\n",
      "\n",
      "\n",
      " [[[134.25 128.25 130.25]\n",
      "   [136.75 130.75 132.75]\n",
      "   [127.25 121.25 123.25]\n",
      "   ...\n",
      "   [138.5  129.5  132.5 ]\n",
      "   [138.   129.   132.  ]\n",
      "   [136.   127.   130.  ]]\n",
      "\n",
      "  [[127.   121.   123.  ]\n",
      "   [138.5  132.5  134.5 ]\n",
      "   [130.   124.   126.  ]\n",
      "   ...\n",
      "   [134.75 125.75 128.75]\n",
      "   [128.25 119.25 122.25]\n",
      "   [128.   119.   122.  ]]\n",
      "\n",
      "  [[143.   137.   139.  ]\n",
      "   [138.25 132.25 134.25]\n",
      "   [128.5  122.5  124.5 ]\n",
      "   ...\n",
      "   [133.   124.   127.  ]\n",
      "   [138.   129.   132.  ]\n",
      "   [135.5  126.5  129.5 ]]\n",
      "\n",
      "  ...\n",
      "\n",
      "  [[187.75 186.75 184.75]\n",
      "   [193.75 192.75 190.75]\n",
      "   [198.25 197.25 195.25]\n",
      "   ...\n",
      "   [211.5  210.5  206.5 ]\n",
      "   [212.   211.   207.  ]\n",
      "   [213.   212.   208.  ]]\n",
      "\n",
      "  [[190.75 188.75 189.75]\n",
      "   [191.5  189.5  190.5 ]\n",
      "   [190.5  188.5  189.5 ]\n",
      "   ...\n",
      "   [212.75 211.75 207.75]\n",
      "   [215.5  214.5  210.5 ]\n",
      "   [213.   212.   208.  ]]\n",
      "\n",
      "  [[190.25 188.25 191.25]\n",
      "   [197.75 195.75 198.75]\n",
      "   [195.75 193.75 196.75]\n",
      "   ...\n",
      "   [209.25 208.25 204.25]\n",
      "   [212.5  211.5  207.5 ]\n",
      "   [209.25 208.25 204.25]]]\n",
      "\n",
      "\n",
      " [[[168.75 157.75 161.75]\n",
      "   [175.25 163.75 167.75]\n",
      "   [164.75 149.75 154.75]\n",
      "   ...\n",
      "   [142.   130.   130.  ]\n",
      "   [158.   146.   146.  ]\n",
      "   [150.25 138.25 138.25]]\n",
      "\n",
      "  [[174.   163.   167.  ]\n",
      "   [173.   161.5  165.5 ]\n",
      "   [165.25 150.25 155.25]\n",
      "   ...\n",
      "   [143.75 131.75 131.75]\n",
      "   [170.25 158.25 158.25]\n",
      "   [154.   142.   142.  ]]\n",
      "\n",
      "  [[170.5  159.5  163.5 ]\n",
      "   [173.25 161.75 165.75]\n",
      "   [166.5  151.5  156.5 ]\n",
      "   ...\n",
      "   [170.5  158.5  158.5 ]\n",
      "   [141.25 129.25 129.25]\n",
      "   [150.75 138.75 138.75]]\n",
      "\n",
      "  ...\n",
      "\n",
      "  [[168.5  157.5  161.5 ]\n",
      "   [171.25 159.75 163.75]\n",
      "   [169.   154.   159.  ]\n",
      "   ...\n",
      "   [156.25 142.25 141.25]\n",
      "   [154.25 140.25 139.25]\n",
      "   [161.   147.   146.  ]]\n",
      "\n",
      "  [[169.5  158.5  162.5 ]\n",
      "   [157.75 146.25 150.25]\n",
      "   [167.75 152.75 157.75]\n",
      "   ...\n",
      "   [148.75 134.75 133.75]\n",
      "   [175.5  161.5  160.5 ]\n",
      "   [166.75 152.75 151.75]]\n",
      "\n",
      "  [[160.25 149.25 153.25]\n",
      "   [158.   146.5  150.5 ]\n",
      "   [156.75 141.75 146.75]\n",
      "   ...\n",
      "   [152.75 138.75 137.75]\n",
      "   [167.75 153.75 152.75]\n",
      "   [163.   149.   148.  ]]]], shape=(64, 64, 64, 3), dtype=float32) (64, 64, 64, 3)\n",
      "tf.Tensor(\n",
      "[[0. 0. 0. ... 0. 0. 0.]\n",
      " [0. 0. 0. ... 0. 0. 0.]\n",
      " [0. 0. 0. ... 0. 0. 0.]\n",
      " ...\n",
      " [0. 0. 0. ... 0. 0. 0.]\n",
      " [0. 0. 0. ... 0. 0. 0.]\n",
      " [0. 1. 0. ... 0. 0. 0.]], shape=(64, 38), dtype=float32) (64, 38)\n"
     ]
    }
   ],
   "source": [
    "for x,y in training_set:\n",
    "    print(x,x.shape)\n",
    "    print(y,y.shape)\n",
    "    break"
   ]
  },
  {
   "cell_type": "markdown",
   "id": "2d29993d-5b07-4e25-829c-df0e793ba00f",
   "metadata": {},
   "source": [
    "## BUILDING MODEL"
   ]
  },
  {
   "cell_type": "code",
   "execution_count": 10,
   "id": "8cc1fc86-83d5-4d06-a605-8093a5069d8a",
   "metadata": {},
   "outputs": [],
   "source": [
    "from tensorflow.keras.layers import Dense,Conv2D,MaxPool2D,Flatten,Dropout\n",
    "from tensorflow.keras.models import Sequential"
   ]
  },
  {
   "cell_type": "code",
   "execution_count": 11,
   "id": "c5ec33d6-6532-4cc2-83fd-f6ff2267b37e",
   "metadata": {},
   "outputs": [],
   "source": [
    "model=Sequential()"
   ]
  },
  {
   "cell_type": "code",
   "execution_count": 12,
   "id": "df5cc581-8bc0-49dc-8bb1-151a13a9315d",
   "metadata": {},
   "outputs": [
    {
     "name": "stderr",
     "output_type": "stream",
     "text": [
      "/opt/anaconda3/lib/python3.11/site-packages/keras/src/layers/convolutional/base_conv.py:107: UserWarning: Do not pass an `input_shape`/`input_dim` argument to a layer. When using Sequential models, prefer using an `Input(shape)` object as the first layer in the model instead.\n",
      "  super().__init__(activity_regularizer=activity_regularizer, **kwargs)\n"
     ]
    }
   ],
   "source": [
    "model.add(Conv2D(filters=32,kernel_size=3,padding='same',activation='relu',input_shape=[64,64,3]))\n",
    "model.add(Conv2D(filters=32,kernel_size=3,activation='relu'))\n",
    "model.add(MaxPool2D(pool_size=2,strides=2))"
   ]
  },
  {
   "cell_type": "code",
   "execution_count": 13,
   "id": "3f118ea9-ff7a-4a8b-8851-22fcfd5ec899",
   "metadata": {},
   "outputs": [],
   "source": [
    "model.add(Conv2D(filters=64,kernel_size=3,padding='same',activation='relu'))\n",
    "model.add(Conv2D(filters=64,kernel_size=3,activation='relu'))\n",
    "model.add(MaxPool2D(pool_size=2,strides=2))"
   ]
  },
  {
   "cell_type": "code",
   "execution_count": 14,
   "id": "674d6474-3d7e-47f4-a2ad-defb41936def",
   "metadata": {},
   "outputs": [],
   "source": [
    "model.add(Conv2D(filters=128,kernel_size=3,padding='same',activation='relu'))\n",
    "model.add(Conv2D(filters=128,kernel_size=3,activation='relu'))\n",
    "model.add(MaxPool2D(pool_size=2,strides=2))"
   ]
  },
  {
   "cell_type": "code",
   "execution_count": 15,
   "id": "ff63fc32-8d37-4a90-8bfc-7d5bd2b2ab03",
   "metadata": {},
   "outputs": [],
   "source": [
    "model.add(Conv2D(filters=256,kernel_size=3,padding='same',activation='relu'))\n",
    "model.add(Conv2D(filters=256,kernel_size=3,activation='relu'))\n",
    "model.add(MaxPool2D(pool_size=2,strides=2))"
   ]
  },
  {
   "cell_type": "code",
   "execution_count": 16,
   "id": "5b354119-c3bf-42db-8ebf-a7ac9e1b90c7",
   "metadata": {},
   "outputs": [],
   "source": [
    "model.add(Flatten())"
   ]
  },
  {
   "cell_type": "code",
   "execution_count": 18,
   "id": "ccb4c618-9a97-4135-a1cf-672d175915c6",
   "metadata": {},
   "outputs": [],
   "source": [
    "model.add(Dense(units=1500,activation='relu'))"
   ]
  },
  {
   "cell_type": "code",
   "execution_count": 19,
   "id": "a1bae911-1edd-413f-b6f1-64816bc949ae",
   "metadata": {},
   "outputs": [],
   "source": [
    "model.add(Dense(units=750,activation='relu'))"
   ]
  },
  {
   "cell_type": "code",
   "execution_count": 31,
   "id": "3e1db916-e127-4636-930f-115a8313f031",
   "metadata": {},
   "outputs": [],
   "source": [
    "model.add(Dropout(0.5))"
   ]
  },
  {
   "cell_type": "code",
   "execution_count": 33,
   "id": "558dbf80-9b55-44e8-84d6-5706d05f9cef",
   "metadata": {},
   "outputs": [],
   "source": [
    "model.add(Dense(units=38,activation='softmax'))"
   ]
  },
  {
   "cell_type": "code",
   "execution_count": 35,
   "id": "eaf91bbf-d109-4773-b730-76391dc48a7d",
   "metadata": {},
   "outputs": [],
   "source": [
    "model.compile(optimizer='rmsprop',loss='categorical_crossentropy',metrics=['accuracy'])"
   ]
  },
  {
   "cell_type": "code",
   "execution_count": 37,
   "id": "f8e9dd04-0b05-4f1c-81b9-f7a1aa1cdf86",
   "metadata": {},
   "outputs": [
    {
     "data": {
      "text/html": [
       "<pre style=\"white-space:pre;overflow-x:auto;line-height:normal;font-family:Menlo,'DejaVu Sans Mono',consolas,'Courier New',monospace\"><span style=\"font-weight: bold\">Model: \"sequential\"</span>\n",
       "</pre>\n"
      ],
      "text/plain": [
       "\u001b[1mModel: \"sequential\"\u001b[0m\n"
      ]
     },
     "metadata": {},
     "output_type": "display_data"
    },
    {
     "data": {
      "text/html": [
       "<pre style=\"white-space:pre;overflow-x:auto;line-height:normal;font-family:Menlo,'DejaVu Sans Mono',consolas,'Courier New',monospace\">┏━━━━━━━━━━━━━━━━━━━━━━━━━━━━━━━━━┳━━━━━━━━━━━━━━━━━━━━━━━━┳━━━━━━━━━━━━━━━┓\n",
       "┃<span style=\"font-weight: bold\"> Layer (type)                    </span>┃<span style=\"font-weight: bold\"> Output Shape           </span>┃<span style=\"font-weight: bold\">       Param # </span>┃\n",
       "┡━━━━━━━━━━━━━━━━━━━━━━━━━━━━━━━━━╇━━━━━━━━━━━━━━━━━━━━━━━━╇━━━━━━━━━━━━━━━┩\n",
       "│ conv2d (<span style=\"color: #0087ff; text-decoration-color: #0087ff\">Conv2D</span>)                 │ (<span style=\"color: #00d7ff; text-decoration-color: #00d7ff\">None</span>, <span style=\"color: #00af00; text-decoration-color: #00af00\">64</span>, <span style=\"color: #00af00; text-decoration-color: #00af00\">64</span>, <span style=\"color: #00af00; text-decoration-color: #00af00\">32</span>)     │           <span style=\"color: #00af00; text-decoration-color: #00af00\">896</span> │\n",
       "├─────────────────────────────────┼────────────────────────┼───────────────┤\n",
       "│ conv2d_1 (<span style=\"color: #0087ff; text-decoration-color: #0087ff\">Conv2D</span>)               │ (<span style=\"color: #00d7ff; text-decoration-color: #00d7ff\">None</span>, <span style=\"color: #00af00; text-decoration-color: #00af00\">62</span>, <span style=\"color: #00af00; text-decoration-color: #00af00\">62</span>, <span style=\"color: #00af00; text-decoration-color: #00af00\">32</span>)     │         <span style=\"color: #00af00; text-decoration-color: #00af00\">9,248</span> │\n",
       "├─────────────────────────────────┼────────────────────────┼───────────────┤\n",
       "│ max_pooling2d (<span style=\"color: #0087ff; text-decoration-color: #0087ff\">MaxPooling2D</span>)    │ (<span style=\"color: #00d7ff; text-decoration-color: #00d7ff\">None</span>, <span style=\"color: #00af00; text-decoration-color: #00af00\">31</span>, <span style=\"color: #00af00; text-decoration-color: #00af00\">31</span>, <span style=\"color: #00af00; text-decoration-color: #00af00\">32</span>)     │             <span style=\"color: #00af00; text-decoration-color: #00af00\">0</span> │\n",
       "├─────────────────────────────────┼────────────────────────┼───────────────┤\n",
       "│ conv2d_2 (<span style=\"color: #0087ff; text-decoration-color: #0087ff\">Conv2D</span>)               │ (<span style=\"color: #00d7ff; text-decoration-color: #00d7ff\">None</span>, <span style=\"color: #00af00; text-decoration-color: #00af00\">31</span>, <span style=\"color: #00af00; text-decoration-color: #00af00\">31</span>, <span style=\"color: #00af00; text-decoration-color: #00af00\">64</span>)     │        <span style=\"color: #00af00; text-decoration-color: #00af00\">18,496</span> │\n",
       "├─────────────────────────────────┼────────────────────────┼───────────────┤\n",
       "│ conv2d_3 (<span style=\"color: #0087ff; text-decoration-color: #0087ff\">Conv2D</span>)               │ (<span style=\"color: #00d7ff; text-decoration-color: #00d7ff\">None</span>, <span style=\"color: #00af00; text-decoration-color: #00af00\">29</span>, <span style=\"color: #00af00; text-decoration-color: #00af00\">29</span>, <span style=\"color: #00af00; text-decoration-color: #00af00\">64</span>)     │        <span style=\"color: #00af00; text-decoration-color: #00af00\">36,928</span> │\n",
       "├─────────────────────────────────┼────────────────────────┼───────────────┤\n",
       "│ max_pooling2d_1 (<span style=\"color: #0087ff; text-decoration-color: #0087ff\">MaxPooling2D</span>)  │ (<span style=\"color: #00d7ff; text-decoration-color: #00d7ff\">None</span>, <span style=\"color: #00af00; text-decoration-color: #00af00\">14</span>, <span style=\"color: #00af00; text-decoration-color: #00af00\">14</span>, <span style=\"color: #00af00; text-decoration-color: #00af00\">64</span>)     │             <span style=\"color: #00af00; text-decoration-color: #00af00\">0</span> │\n",
       "├─────────────────────────────────┼────────────────────────┼───────────────┤\n",
       "│ conv2d_4 (<span style=\"color: #0087ff; text-decoration-color: #0087ff\">Conv2D</span>)               │ (<span style=\"color: #00d7ff; text-decoration-color: #00d7ff\">None</span>, <span style=\"color: #00af00; text-decoration-color: #00af00\">14</span>, <span style=\"color: #00af00; text-decoration-color: #00af00\">14</span>, <span style=\"color: #00af00; text-decoration-color: #00af00\">128</span>)    │        <span style=\"color: #00af00; text-decoration-color: #00af00\">73,856</span> │\n",
       "├─────────────────────────────────┼────────────────────────┼───────────────┤\n",
       "│ conv2d_5 (<span style=\"color: #0087ff; text-decoration-color: #0087ff\">Conv2D</span>)               │ (<span style=\"color: #00d7ff; text-decoration-color: #00d7ff\">None</span>, <span style=\"color: #00af00; text-decoration-color: #00af00\">12</span>, <span style=\"color: #00af00; text-decoration-color: #00af00\">12</span>, <span style=\"color: #00af00; text-decoration-color: #00af00\">128</span>)    │       <span style=\"color: #00af00; text-decoration-color: #00af00\">147,584</span> │\n",
       "├─────────────────────────────────┼────────────────────────┼───────────────┤\n",
       "│ max_pooling2d_2 (<span style=\"color: #0087ff; text-decoration-color: #0087ff\">MaxPooling2D</span>)  │ (<span style=\"color: #00d7ff; text-decoration-color: #00d7ff\">None</span>, <span style=\"color: #00af00; text-decoration-color: #00af00\">6</span>, <span style=\"color: #00af00; text-decoration-color: #00af00\">6</span>, <span style=\"color: #00af00; text-decoration-color: #00af00\">128</span>)      │             <span style=\"color: #00af00; text-decoration-color: #00af00\">0</span> │\n",
       "├─────────────────────────────────┼────────────────────────┼───────────────┤\n",
       "│ conv2d_6 (<span style=\"color: #0087ff; text-decoration-color: #0087ff\">Conv2D</span>)               │ (<span style=\"color: #00d7ff; text-decoration-color: #00d7ff\">None</span>, <span style=\"color: #00af00; text-decoration-color: #00af00\">6</span>, <span style=\"color: #00af00; text-decoration-color: #00af00\">6</span>, <span style=\"color: #00af00; text-decoration-color: #00af00\">256</span>)      │       <span style=\"color: #00af00; text-decoration-color: #00af00\">295,168</span> │\n",
       "├─────────────────────────────────┼────────────────────────┼───────────────┤\n",
       "│ conv2d_7 (<span style=\"color: #0087ff; text-decoration-color: #0087ff\">Conv2D</span>)               │ (<span style=\"color: #00d7ff; text-decoration-color: #00d7ff\">None</span>, <span style=\"color: #00af00; text-decoration-color: #00af00\">4</span>, <span style=\"color: #00af00; text-decoration-color: #00af00\">4</span>, <span style=\"color: #00af00; text-decoration-color: #00af00\">256</span>)      │       <span style=\"color: #00af00; text-decoration-color: #00af00\">590,080</span> │\n",
       "├─────────────────────────────────┼────────────────────────┼───────────────┤\n",
       "│ max_pooling2d_3 (<span style=\"color: #0087ff; text-decoration-color: #0087ff\">MaxPooling2D</span>)  │ (<span style=\"color: #00d7ff; text-decoration-color: #00d7ff\">None</span>, <span style=\"color: #00af00; text-decoration-color: #00af00\">2</span>, <span style=\"color: #00af00; text-decoration-color: #00af00\">2</span>, <span style=\"color: #00af00; text-decoration-color: #00af00\">256</span>)      │             <span style=\"color: #00af00; text-decoration-color: #00af00\">0</span> │\n",
       "├─────────────────────────────────┼────────────────────────┼───────────────┤\n",
       "│ flatten (<span style=\"color: #0087ff; text-decoration-color: #0087ff\">Flatten</span>)               │ (<span style=\"color: #00d7ff; text-decoration-color: #00d7ff\">None</span>, <span style=\"color: #00af00; text-decoration-color: #00af00\">1024</span>)           │             <span style=\"color: #00af00; text-decoration-color: #00af00\">0</span> │\n",
       "├─────────────────────────────────┼────────────────────────┼───────────────┤\n",
       "│ dense (<span style=\"color: #0087ff; text-decoration-color: #0087ff\">Dense</span>)                   │ (<span style=\"color: #00d7ff; text-decoration-color: #00d7ff\">None</span>, <span style=\"color: #00af00; text-decoration-color: #00af00\">1500</span>)           │     <span style=\"color: #00af00; text-decoration-color: #00af00\">1,537,500</span> │\n",
       "├─────────────────────────────────┼────────────────────────┼───────────────┤\n",
       "│ dense_1 (<span style=\"color: #0087ff; text-decoration-color: #0087ff\">Dense</span>)                 │ (<span style=\"color: #00d7ff; text-decoration-color: #00d7ff\">None</span>, <span style=\"color: #00af00; text-decoration-color: #00af00\">750</span>)            │     <span style=\"color: #00af00; text-decoration-color: #00af00\">1,125,750</span> │\n",
       "├─────────────────────────────────┼────────────────────────┼───────────────┤\n",
       "│ dropout (<span style=\"color: #0087ff; text-decoration-color: #0087ff\">Dropout</span>)               │ (<span style=\"color: #00d7ff; text-decoration-color: #00d7ff\">None</span>, <span style=\"color: #00af00; text-decoration-color: #00af00\">750</span>)            │             <span style=\"color: #00af00; text-decoration-color: #00af00\">0</span> │\n",
       "├─────────────────────────────────┼────────────────────────┼───────────────┤\n",
       "│ dense_2 (<span style=\"color: #0087ff; text-decoration-color: #0087ff\">Dense</span>)                 │ (<span style=\"color: #00d7ff; text-decoration-color: #00d7ff\">None</span>, <span style=\"color: #00af00; text-decoration-color: #00af00\">38</span>)             │        <span style=\"color: #00af00; text-decoration-color: #00af00\">28,538</span> │\n",
       "└─────────────────────────────────┴────────────────────────┴───────────────┘\n",
       "</pre>\n"
      ],
      "text/plain": [
       "┏━━━━━━━━━━━━━━━━━━━━━━━━━━━━━━━━━┳━━━━━━━━━━━━━━━━━━━━━━━━┳━━━━━━━━━━━━━━━┓\n",
       "┃\u001b[1m \u001b[0m\u001b[1mLayer (type)                   \u001b[0m\u001b[1m \u001b[0m┃\u001b[1m \u001b[0m\u001b[1mOutput Shape          \u001b[0m\u001b[1m \u001b[0m┃\u001b[1m \u001b[0m\u001b[1m      Param #\u001b[0m\u001b[1m \u001b[0m┃\n",
       "┡━━━━━━━━━━━━━━━━━━━━━━━━━━━━━━━━━╇━━━━━━━━━━━━━━━━━━━━━━━━╇━━━━━━━━━━━━━━━┩\n",
       "│ conv2d (\u001b[38;5;33mConv2D\u001b[0m)                 │ (\u001b[38;5;45mNone\u001b[0m, \u001b[38;5;34m64\u001b[0m, \u001b[38;5;34m64\u001b[0m, \u001b[38;5;34m32\u001b[0m)     │           \u001b[38;5;34m896\u001b[0m │\n",
       "├─────────────────────────────────┼────────────────────────┼───────────────┤\n",
       "│ conv2d_1 (\u001b[38;5;33mConv2D\u001b[0m)               │ (\u001b[38;5;45mNone\u001b[0m, \u001b[38;5;34m62\u001b[0m, \u001b[38;5;34m62\u001b[0m, \u001b[38;5;34m32\u001b[0m)     │         \u001b[38;5;34m9,248\u001b[0m │\n",
       "├─────────────────────────────────┼────────────────────────┼───────────────┤\n",
       "│ max_pooling2d (\u001b[38;5;33mMaxPooling2D\u001b[0m)    │ (\u001b[38;5;45mNone\u001b[0m, \u001b[38;5;34m31\u001b[0m, \u001b[38;5;34m31\u001b[0m, \u001b[38;5;34m32\u001b[0m)     │             \u001b[38;5;34m0\u001b[0m │\n",
       "├─────────────────────────────────┼────────────────────────┼───────────────┤\n",
       "│ conv2d_2 (\u001b[38;5;33mConv2D\u001b[0m)               │ (\u001b[38;5;45mNone\u001b[0m, \u001b[38;5;34m31\u001b[0m, \u001b[38;5;34m31\u001b[0m, \u001b[38;5;34m64\u001b[0m)     │        \u001b[38;5;34m18,496\u001b[0m │\n",
       "├─────────────────────────────────┼────────────────────────┼───────────────┤\n",
       "│ conv2d_3 (\u001b[38;5;33mConv2D\u001b[0m)               │ (\u001b[38;5;45mNone\u001b[0m, \u001b[38;5;34m29\u001b[0m, \u001b[38;5;34m29\u001b[0m, \u001b[38;5;34m64\u001b[0m)     │        \u001b[38;5;34m36,928\u001b[0m │\n",
       "├─────────────────────────────────┼────────────────────────┼───────────────┤\n",
       "│ max_pooling2d_1 (\u001b[38;5;33mMaxPooling2D\u001b[0m)  │ (\u001b[38;5;45mNone\u001b[0m, \u001b[38;5;34m14\u001b[0m, \u001b[38;5;34m14\u001b[0m, \u001b[38;5;34m64\u001b[0m)     │             \u001b[38;5;34m0\u001b[0m │\n",
       "├─────────────────────────────────┼────────────────────────┼───────────────┤\n",
       "│ conv2d_4 (\u001b[38;5;33mConv2D\u001b[0m)               │ (\u001b[38;5;45mNone\u001b[0m, \u001b[38;5;34m14\u001b[0m, \u001b[38;5;34m14\u001b[0m, \u001b[38;5;34m128\u001b[0m)    │        \u001b[38;5;34m73,856\u001b[0m │\n",
       "├─────────────────────────────────┼────────────────────────┼───────────────┤\n",
       "│ conv2d_5 (\u001b[38;5;33mConv2D\u001b[0m)               │ (\u001b[38;5;45mNone\u001b[0m, \u001b[38;5;34m12\u001b[0m, \u001b[38;5;34m12\u001b[0m, \u001b[38;5;34m128\u001b[0m)    │       \u001b[38;5;34m147,584\u001b[0m │\n",
       "├─────────────────────────────────┼────────────────────────┼───────────────┤\n",
       "│ max_pooling2d_2 (\u001b[38;5;33mMaxPooling2D\u001b[0m)  │ (\u001b[38;5;45mNone\u001b[0m, \u001b[38;5;34m6\u001b[0m, \u001b[38;5;34m6\u001b[0m, \u001b[38;5;34m128\u001b[0m)      │             \u001b[38;5;34m0\u001b[0m │\n",
       "├─────────────────────────────────┼────────────────────────┼───────────────┤\n",
       "│ conv2d_6 (\u001b[38;5;33mConv2D\u001b[0m)               │ (\u001b[38;5;45mNone\u001b[0m, \u001b[38;5;34m6\u001b[0m, \u001b[38;5;34m6\u001b[0m, \u001b[38;5;34m256\u001b[0m)      │       \u001b[38;5;34m295,168\u001b[0m │\n",
       "├─────────────────────────────────┼────────────────────────┼───────────────┤\n",
       "│ conv2d_7 (\u001b[38;5;33mConv2D\u001b[0m)               │ (\u001b[38;5;45mNone\u001b[0m, \u001b[38;5;34m4\u001b[0m, \u001b[38;5;34m4\u001b[0m, \u001b[38;5;34m256\u001b[0m)      │       \u001b[38;5;34m590,080\u001b[0m │\n",
       "├─────────────────────────────────┼────────────────────────┼───────────────┤\n",
       "│ max_pooling2d_3 (\u001b[38;5;33mMaxPooling2D\u001b[0m)  │ (\u001b[38;5;45mNone\u001b[0m, \u001b[38;5;34m2\u001b[0m, \u001b[38;5;34m2\u001b[0m, \u001b[38;5;34m256\u001b[0m)      │             \u001b[38;5;34m0\u001b[0m │\n",
       "├─────────────────────────────────┼────────────────────────┼───────────────┤\n",
       "│ flatten (\u001b[38;5;33mFlatten\u001b[0m)               │ (\u001b[38;5;45mNone\u001b[0m, \u001b[38;5;34m1024\u001b[0m)           │             \u001b[38;5;34m0\u001b[0m │\n",
       "├─────────────────────────────────┼────────────────────────┼───────────────┤\n",
       "│ dense (\u001b[38;5;33mDense\u001b[0m)                   │ (\u001b[38;5;45mNone\u001b[0m, \u001b[38;5;34m1500\u001b[0m)           │     \u001b[38;5;34m1,537,500\u001b[0m │\n",
       "├─────────────────────────────────┼────────────────────────┼───────────────┤\n",
       "│ dense_1 (\u001b[38;5;33mDense\u001b[0m)                 │ (\u001b[38;5;45mNone\u001b[0m, \u001b[38;5;34m750\u001b[0m)            │     \u001b[38;5;34m1,125,750\u001b[0m │\n",
       "├─────────────────────────────────┼────────────────────────┼───────────────┤\n",
       "│ dropout (\u001b[38;5;33mDropout\u001b[0m)               │ (\u001b[38;5;45mNone\u001b[0m, \u001b[38;5;34m750\u001b[0m)            │             \u001b[38;5;34m0\u001b[0m │\n",
       "├─────────────────────────────────┼────────────────────────┼───────────────┤\n",
       "│ dense_2 (\u001b[38;5;33mDense\u001b[0m)                 │ (\u001b[38;5;45mNone\u001b[0m, \u001b[38;5;34m38\u001b[0m)             │        \u001b[38;5;34m28,538\u001b[0m │\n",
       "└─────────────────────────────────┴────────────────────────┴───────────────┘\n"
      ]
     },
     "metadata": {},
     "output_type": "display_data"
    },
    {
     "data": {
      "text/html": [
       "<pre style=\"white-space:pre;overflow-x:auto;line-height:normal;font-family:Menlo,'DejaVu Sans Mono',consolas,'Courier New',monospace\"><span style=\"font-weight: bold\"> Total params: </span><span style=\"color: #00af00; text-decoration-color: #00af00\">3,864,044</span> (14.74 MB)\n",
       "</pre>\n"
      ],
      "text/plain": [
       "\u001b[1m Total params: \u001b[0m\u001b[38;5;34m3,864,044\u001b[0m (14.74 MB)\n"
      ]
     },
     "metadata": {},
     "output_type": "display_data"
    },
    {
     "data": {
      "text/html": [
       "<pre style=\"white-space:pre;overflow-x:auto;line-height:normal;font-family:Menlo,'DejaVu Sans Mono',consolas,'Courier New',monospace\"><span style=\"font-weight: bold\"> Trainable params: </span><span style=\"color: #00af00; text-decoration-color: #00af00\">3,864,044</span> (14.74 MB)\n",
       "</pre>\n"
      ],
      "text/plain": [
       "\u001b[1m Trainable params: \u001b[0m\u001b[38;5;34m3,864,044\u001b[0m (14.74 MB)\n"
      ]
     },
     "metadata": {},
     "output_type": "display_data"
    },
    {
     "data": {
      "text/html": [
       "<pre style=\"white-space:pre;overflow-x:auto;line-height:normal;font-family:Menlo,'DejaVu Sans Mono',consolas,'Courier New',monospace\"><span style=\"font-weight: bold\"> Non-trainable params: </span><span style=\"color: #00af00; text-decoration-color: #00af00\">0</span> (0.00 B)\n",
       "</pre>\n"
      ],
      "text/plain": [
       "\u001b[1m Non-trainable params: \u001b[0m\u001b[38;5;34m0\u001b[0m (0.00 B)\n"
      ]
     },
     "metadata": {},
     "output_type": "display_data"
    }
   ],
   "source": [
    "model.summary()"
   ]
  },
  {
   "cell_type": "code",
   "execution_count": 39,
   "id": "087e0a6e-941c-4891-8cba-8d82c09fc7ce",
   "metadata": {},
   "outputs": [
    {
     "name": "stdout",
     "output_type": "stream",
     "text": [
      "Epoch 1/10\n",
      "\u001b[1m1099/1099\u001b[0m \u001b[32m━━━━━━━━━━━━━━━━━━━━\u001b[0m\u001b[37m\u001b[0m \u001b[1m791s\u001b[0m 719ms/step - accuracy: 0.1282 - loss: 3.2696 - val_accuracy: 0.5522 - val_loss: 1.4982\n",
      "Epoch 2/10\n",
      "\u001b[1m1099/1099\u001b[0m \u001b[32m━━━━━━━━━━━━━━━━━━━━\u001b[0m\u001b[37m\u001b[0m \u001b[1m838s\u001b[0m 762ms/step - accuracy: 0.6020 - loss: 1.3308 - val_accuracy: 0.6673 - val_loss: 1.1519\n",
      "Epoch 3/10\n",
      "\u001b[1m1099/1099\u001b[0m \u001b[32m━━━━━━━━━━━━━━━━━━━━\u001b[0m\u001b[37m\u001b[0m \u001b[1m790s\u001b[0m 719ms/step - accuracy: 0.7595 - loss: 0.8065 - val_accuracy: 0.8073 - val_loss: 0.6538\n",
      "Epoch 4/10\n",
      "\u001b[1m1099/1099\u001b[0m \u001b[32m━━━━━━━━━━━━━━━━━━━━\u001b[0m\u001b[37m\u001b[0m \u001b[1m766s\u001b[0m 697ms/step - accuracy: 0.8171 - loss: 0.6321 - val_accuracy: 0.8476 - val_loss: 0.5462\n",
      "Epoch 5/10\n",
      "\u001b[1m1099/1099\u001b[0m \u001b[32m━━━━━━━━━━━━━━━━━━━━\u001b[0m\u001b[37m\u001b[0m \u001b[1m751s\u001b[0m 684ms/step - accuracy: 0.8398 - loss: 0.5829 - val_accuracy: 0.7672 - val_loss: 0.8945\n",
      "Epoch 6/10\n",
      "\u001b[1m1099/1099\u001b[0m \u001b[32m━━━━━━━━━━━━━━━━━━━━\u001b[0m\u001b[37m\u001b[0m \u001b[1m755s\u001b[0m 687ms/step - accuracy: 0.8426 - loss: 0.5917 - val_accuracy: 0.7416 - val_loss: 1.0861\n",
      "Epoch 7/10\n",
      "\u001b[1m1099/1099\u001b[0m \u001b[32m━━━━━━━━━━━━━━━━━━━━\u001b[0m\u001b[37m\u001b[0m \u001b[1m754s\u001b[0m 686ms/step - accuracy: 0.8425 - loss: 0.6393 - val_accuracy: 0.8084 - val_loss: 0.8427\n",
      "Epoch 8/10\n",
      "\u001b[1m1099/1099\u001b[0m \u001b[32m━━━━━━━━━━━━━━━━━━━━\u001b[0m\u001b[37m\u001b[0m \u001b[1m766s\u001b[0m 697ms/step - accuracy: 0.8361 - loss: 0.6851 - val_accuracy: 0.8221 - val_loss: 0.9498\n",
      "Epoch 9/10\n",
      "\u001b[1m1099/1099\u001b[0m \u001b[32m━━━━━━━━━━━━━━━━━━━━\u001b[0m\u001b[37m\u001b[0m \u001b[1m744s\u001b[0m 677ms/step - accuracy: 0.8208 - loss: 0.7834 - val_accuracy: 0.8168 - val_loss: 0.9520\n",
      "Epoch 10/10\n",
      "\u001b[1m1099/1099\u001b[0m \u001b[32m━━━━━━━━━━━━━━━━━━━━\u001b[0m\u001b[37m\u001b[0m \u001b[1m840s\u001b[0m 765ms/step - accuracy: 0.8136 - loss: 0.8649 - val_accuracy: 0.8390 - val_loss: 0.6903\n"
     ]
    }
   ],
   "source": [
    "training_history=model.fit(x=training_set,validation_data=validation_set,epochs=10)"
   ]
  },
  {
   "cell_type": "markdown",
   "id": "00291450-2bf7-4cbd-a15e-965d481b032d",
   "metadata": {},
   "source": [
    "## SAVING MODEL"
   ]
  },
  {
   "cell_type": "code",
   "execution_count": 134,
   "id": "a661c080-18d3-41d9-9c8a-9fa8eb03432c",
   "metadata": {},
   "outputs": [],
   "source": [
    "model.save('trained_model.keras')"
   ]
  },
  {
   "cell_type": "markdown",
   "id": "3f14a621-af54-4ee3-9f6d-91025c132c66",
   "metadata": {},
   "source": [
    "## MODEL EVALUATION"
   ]
  },
  {
   "cell_type": "code",
   "execution_count": 49,
   "id": "14d3847b-fafd-4b07-a642-72f6bb985e5c",
   "metadata": {},
   "outputs": [
    {
     "name": "stdout",
     "output_type": "stream",
     "text": [
      "\u001b[1m1099/1099\u001b[0m \u001b[32m━━━━━━━━━━━━━━━━━━━━\u001b[0m\u001b[37m\u001b[0m \u001b[1m208s\u001b[0m 189ms/step - accuracy: 0.8590 - loss: 0.5822\n"
     ]
    }
   ],
   "source": [
    "train_loss,train_acc=model.evaluate(training_set)"
   ]
  },
  {
   "cell_type": "code",
   "execution_count": 50,
   "id": "43366a2c-673e-4ebd-ba9e-299b8f02bf55",
   "metadata": {},
   "outputs": [
    {
     "name": "stdout",
     "output_type": "stream",
     "text": [
      "0.5645074844360352 0.8638025522232056\n"
     ]
    }
   ],
   "source": [
    "print(train_loss,train_acc)"
   ]
  },
  {
   "cell_type": "code",
   "execution_count": 51,
   "id": "d850624e-d45c-4561-9984-1b4258fdeac1",
   "metadata": {},
   "outputs": [
    {
     "name": "stdout",
     "output_type": "stream",
     "text": [
      "\u001b[1m275/275\u001b[0m \u001b[32m━━━━━━━━━━━━━━━━━━━━\u001b[0m\u001b[37m\u001b[0m \u001b[1m51s\u001b[0m 186ms/step - accuracy: 0.8431 - loss: 0.6679\n"
     ]
    }
   ],
   "source": [
    "valid_loss,valid_acc=model.evaluate(validation_set)"
   ]
  },
  {
   "cell_type": "code",
   "execution_count": 52,
   "id": "589f7356-14df-44af-8978-1f0985de3705",
   "metadata": {},
   "outputs": [
    {
     "name": "stdout",
     "output_type": "stream",
     "text": [
      "0.6903454661369324 0.8390052318572998\n"
     ]
    }
   ],
   "source": [
    "print(valid_loss,valid_acc)"
   ]
  },
  {
   "cell_type": "markdown",
   "id": "4981e917-e193-4b70-b3b0-06f79c35b33f",
   "metadata": {},
   "source": [
    "## RECORDING HISTORY IN JSON"
   ]
  },
  {
   "cell_type": "code",
   "execution_count": 58,
   "id": "916762e0-5936-4725-8a73-a6f03fbc94ba",
   "metadata": {},
   "outputs": [],
   "source": [
    "import json\n",
    "with open('training_hist.json','w') as f:\n",
    "    json.dump(training_history.history,f)"
   ]
  },
  {
   "cell_type": "code",
   "execution_count": 60,
   "id": "2836731e-9772-4663-bc1a-c3afffd0bf2a",
   "metadata": {},
   "outputs": [
    {
     "name": "stdout",
     "output_type": "stream",
     "text": [
      "dict_keys(['accuracy', 'loss', 'val_accuracy', 'val_loss'])\n"
     ]
    }
   ],
   "source": [
    "print(training_history.history.keys())"
   ]
  },
  {
   "cell_type": "code",
   "execution_count": 62,
   "id": "92437cc6-af81-42bf-a8c5-cc45eb061dd3",
   "metadata": {
    "scrolled": true
   },
   "outputs": [
    {
     "data": {
      "text/plain": [
       "{'accuracy': [0.26932215690612793,\n",
       "  0.6572017669677734,\n",
       "  0.7794153094291687,\n",
       "  0.8245252370834351,\n",
       "  0.8408848643302917,\n",
       "  0.8429049253463745,\n",
       "  0.8414396643638611,\n",
       "  0.8328757286071777,\n",
       "  0.8207838535308838,\n",
       "  0.8068568110466003],\n",
       " 'loss': [2.6014513969421387,\n",
       "  1.1443790197372437,\n",
       "  0.7430110573768616,\n",
       "  0.60651034116745,\n",
       "  0.5813999176025391,\n",
       "  0.5957140922546387,\n",
       "  0.6474575400352478,\n",
       "  0.7057294249534607,\n",
       "  0.7909360527992249,\n",
       "  0.8843500018119812],\n",
       " 'val_accuracy': [0.5522422194480896,\n",
       "  0.6672547459602356,\n",
       "  0.8072501420974731,\n",
       "  0.8475984334945679,\n",
       "  0.7672433257102966,\n",
       "  0.7416344285011292,\n",
       "  0.8084452748298645,\n",
       "  0.8221033215522766,\n",
       "  0.8168108463287354,\n",
       "  0.8390052318572998],\n",
       " 'val_loss': [1.4982479810714722,\n",
       "  1.1519029140472412,\n",
       "  0.6538477540016174,\n",
       "  0.5461629033088684,\n",
       "  0.8945260643959045,\n",
       "  1.086105227470398,\n",
       "  0.8426622152328491,\n",
       "  0.9498487710952759,\n",
       "  0.9519615769386292,\n",
       "  0.6903453469276428]}"
      ]
     },
     "execution_count": 62,
     "metadata": {},
     "output_type": "execute_result"
    }
   ],
   "source": [
    "training_history.history"
   ]
  },
  {
   "cell_type": "code",
   "execution_count": 64,
   "id": "3813a962-c4e0-4220-87fe-192d3951a1e4",
   "metadata": {
    "scrolled": true
   },
   "outputs": [
    {
     "data": {
      "text/plain": [
       "[0.5522422194480896,\n",
       " 0.6672547459602356,\n",
       " 0.8072501420974731,\n",
       " 0.8475984334945679,\n",
       " 0.7672433257102966,\n",
       " 0.7416344285011292,\n",
       " 0.8084452748298645,\n",
       " 0.8221033215522766,\n",
       " 0.8168108463287354,\n",
       " 0.8390052318572998]"
      ]
     },
     "execution_count": 64,
     "metadata": {},
     "output_type": "execute_result"
    }
   ],
   "source": [
    "training_history.history['val_accuracy']"
   ]
  },
  {
   "cell_type": "code",
   "execution_count": 66,
   "id": "74912920-0262-47ca-b2e9-a8ab06d0e627",
   "metadata": {},
   "outputs": [
    {
     "name": "stdout",
     "output_type": "stream",
     "text": [
      "Validation set Accuracy : 83.90052318572998 % \n"
     ]
    }
   ],
   "source": [
    "print(\"Validation set Accuracy : {} % \".format(training_history.history['val_accuracy'][-1]*100))"
   ]
  },
  {
   "cell_type": "code",
   "execution_count": 68,
   "id": "1bb2e863-cbde-4bd8-9d16-be11da64597f",
   "metadata": {},
   "outputs": [
    {
     "name": "stdout",
     "output_type": "stream",
     "text": [
      "Training set Accuracy : 80.68568110466003 % \n"
     ]
    }
   ],
   "source": [
    "print(\"Training set Accuracy : {} % \".format(training_history.history['accuracy'][-1]*100))"
   ]
  },
  {
   "cell_type": "markdown",
   "id": "d844276f-5733-44e0-b368-9a5295226e5c",
   "metadata": {},
   "source": [
    "## ACCURACY VISUALIZATION"
   ]
  },
  {
   "cell_type": "code",
   "execution_count": 73,
   "id": "aac03e9f-7a20-4eaa-8c9a-70e7f6525a79",
   "metadata": {},
   "outputs": [],
   "source": [
    "epochs=[i for i in range(1,11)]"
   ]
  },
  {
   "cell_type": "code",
   "execution_count": 75,
   "id": "53a6b42d-fa48-45a2-b6da-cf511fc17c85",
   "metadata": {},
   "outputs": [
    {
     "data": {
      "text/plain": [
       "<matplotlib.legend.Legend at 0x14f948e50>"
      ]
     },
     "execution_count": 75,
     "metadata": {},
     "output_type": "execute_result"
    },
    {
     "data": {
      "image/png": "[encoded data removed]",
      "text/plain": [
       "<Figure size 640x480 with 1 Axes>"
      ]
     },
     "metadata": {},
     "output_type": "display_data"
    }
   ],
   "source": [
    "plt.plot(epochs,training_history.history['accuracy'],color='red',label='Training')\n",
    "plt.plot(epochs,training_history.history['val_accuracy'],color='blue',label='Validation')\n",
    "plt.xlabel('No of epochs')\n",
    "plt.ylabel('Accuracy result')\n",
    "plt.title('Visualisation of Accuracy Result')\n",
    "plt.legend()"
   ]
  },
  {
   "cell_type": "markdown",
   "id": "34e9692d-6f51-4fdf-b7eb-a29849589699",
   "metadata": {},
   "source": [
    "## SOME OTHER METRICS FOR MODEL EVALUATION"
   ]
  },
  {
   "cell_type": "code",
   "execution_count": 102,
   "id": "958b967a-7d40-4bb2-ad20-c3cd714a7f9e",
   "metadata": {},
   "outputs": [
    {
     "name": "stdout",
     "output_type": "stream",
     "text": [
      "Found 17572 files belonging to 38 classes.\n"
     ]
    }
   ],
   "source": [
    "test_set=tf.keras.utils.image_dataset_from_directory(\n",
    "    'valid',\n",
    "    labels=\"inferred\",\n",
    "    label_mode=\"categorical\",\n",
    "    class_names=None,\n",
    "    color_mode=\"rgb\",\n",
    "    batch_size=64,\n",
    "    image_size=(64, 64),\n",
    "    shuffle=False,\n",
    "    seed=None,\n",
    "    validation_split=None,\n",
    "    subset=None,\n",
    "    interpolation=\"bilinear\",\n",
    "    follow_links=False,\n",
    "    crop_to_aspect_ratio=False\n",
    ")"
   ]
  },
  {
   "cell_type": "code",
   "execution_count": 8,
   "id": "2063f0d2-b558-47b6-9dfc-4774b6b94699",
   "metadata": {},
   "outputs": [
    {
     "data": {
      "text/plain": [
       "['Apple___Apple_scab',\n",
       " 'Apple___Black_rot',\n",
       " 'Apple___Cedar_apple_rust',\n",
       " 'Apple___healthy',\n",
       " 'Blueberry___healthy',\n",
       " 'Cherry_(including_sour)___Powdery_mildew',\n",
       " 'Cherry_(including_sour)___healthy',\n",
       " 'Corn_(maize)___Cercospora_leaf_spot Gray_leaf_spot',\n",
       " 'Corn_(maize)___Common_rust_',\n",
       " 'Corn_(maize)___Northern_Leaf_Blight',\n",
       " 'Corn_(maize)___healthy',\n",
       " 'Grape___Black_rot',\n",
       " 'Grape___Esca_(Black_Measles)',\n",
       " 'Grape___Leaf_blight_(Isariopsis_Leaf_Spot)',\n",
       " 'Grape___healthy',\n",
       " 'Orange___Haunglongbing_(Citrus_greening)',\n",
       " 'Peach___Bacterial_spot',\n",
       " 'Peach___healthy',\n",
       " 'Pepper,_bell___Bacterial_spot',\n",
       " 'Pepper,_bell___healthy',\n",
       " 'Potato___Early_blight',\n",
       " 'Potato___Late_blight',\n",
       " 'Potato___healthy',\n",
       " 'Raspberry___healthy',\n",
       " 'Soybean___healthy',\n",
       " 'Squash___Powdery_mildew',\n",
       " 'Strawberry___Leaf_scorch',\n",
       " 'Strawberry___healthy',\n",
       " 'Tomato___Bacterial_spot',\n",
       " 'Tomato___Early_blight',\n",
       " 'Tomato___Late_blight',\n",
       " 'Tomato___Leaf_Mold',\n",
       " 'Tomato___Septoria_leaf_spot',\n",
       " 'Tomato___Spider_mites Two-spotted_spider_mite',\n",
       " 'Tomato___Target_Spot',\n",
       " 'Tomato___Tomato_Yellow_Leaf_Curl_Virus',\n",
       " 'Tomato___Tomato_mosaic_virus',\n",
       " 'Tomato___healthy']"
      ]
     },
     "execution_count": 8,
     "metadata": {},
     "output_type": "execute_result"
    }
   ],
   "source": [
    "class_name=validation_set.class_names\n",
    "class_name"
   ]
  },
  {
   "cell_type": "code",
   "execution_count": 106,
   "id": "82dd0804-f78a-4307-9a45-f90fe85f2f82",
   "metadata": {},
   "outputs": [
    {
     "name": "stdout",
     "output_type": "stream",
     "text": [
      "\u001b[1m275/275\u001b[0m \u001b[32m━━━━━━━━━━━━━━━━━━━━\u001b[0m\u001b[37m\u001b[0m \u001b[1m54s\u001b[0m 196ms/step\n"
     ]
    }
   ],
   "source": [
    "y_pred=model.predict(test_set)"
   ]
  },
  {
   "cell_type": "code",
   "execution_count": 108,
   "id": "fbad9e3c-fef7-4444-9bbd-20a890553bfe",
   "metadata": {},
   "outputs": [
    {
     "data": {
      "text/plain": [
       "(array([[1.0000000e+00, 1.4350109e-10, 4.7443980e-12, ..., 2.2247079e-22,\n",
       "         8.6517565e-19, 5.1372326e-19],\n",
       "        [9.9999988e-01, 8.0741266e-08, 6.8317086e-20, ..., 0.0000000e+00,\n",
       "         2.9928736e-36, 0.0000000e+00],\n",
       "        [1.0000000e+00, 6.5817895e-25, 2.3926655e-26, ..., 0.0000000e+00,\n",
       "         1.3705452e-37, 2.1509805e-35],\n",
       "        ...,\n",
       "        [2.2929169e-18, 6.7193770e-29, 3.2463711e-19, ..., 5.0651945e-19,\n",
       "         2.8680494e-20, 1.0000000e+00],\n",
       "        [0.0000000e+00, 0.0000000e+00, 0.0000000e+00, ..., 0.0000000e+00,\n",
       "         0.0000000e+00, 1.0000000e+00],\n",
       "        [5.7152869e-31, 1.7801304e-38, 1.9206784e-32, ..., 5.8573731e-28,\n",
       "         5.9226528e-25, 1.0000000e+00]], dtype=float32),\n",
       " (17572, 38))"
      ]
     },
     "execution_count": 108,
     "metadata": {},
     "output_type": "execute_result"
    }
   ],
   "source": [
    "y_pred,y_pred.shape"
   ]
  },
  {
   "cell_type": "code",
   "execution_count": 110,
   "id": "d0c2b290-347b-48d0-a552-33a3b52f03c8",
   "metadata": {},
   "outputs": [],
   "source": [
    "predicted_categories=tf.argmax(y_pred,axis=1)"
   ]
  },
  {
   "cell_type": "code",
   "execution_count": 112,
   "id": "6f839cf5-67cc-4604-bebe-67bcb0213a01",
   "metadata": {},
   "outputs": [
    {
     "data": {
      "text/plain": [
       "<tf.Tensor: shape=(17572,), dtype=int64, numpy=array([ 0,  0,  0, ..., 37, 37, 37])>"
      ]
     },
     "execution_count": 112,
     "metadata": {},
     "output_type": "execute_result"
    }
   ],
   "source": [
    "predicted_categories"
   ]
  },
  {
   "cell_type": "code",
   "execution_count": 114,
   "id": "f628dc1a-7460-4275-bb27-1968d873c6aa",
   "metadata": {},
   "outputs": [
    {
     "name": "stderr",
     "output_type": "stream",
     "text": [
      "2024-11-01 16:19:41.647657: I tensorflow/core/framework/local_rendezvous.cc:404] Local rendezvous is aborting with status: OUT_OF_RANGE: End of sequence\n"
     ]
    }
   ],
   "source": [
    "true_categories=tf.concat([y for x,y in test_set],axis=0)"
   ]
  },
  {
   "cell_type": "code",
   "execution_count": 115,
   "id": "92ee63bd-1b8a-4b6c-95d8-9fe079b44525",
   "metadata": {},
   "outputs": [
    {
     "data": {
      "text/plain": [
       "<tf.Tensor: shape=(17572, 38), dtype=float32, numpy=\n",
       "array([[1., 0., 0., ..., 0., 0., 0.],\n",
       "       [1., 0., 0., ..., 0., 0., 0.],\n",
       "       [1., 0., 0., ..., 0., 0., 0.],\n",
       "       ...,\n",
       "       [0., 0., 0., ..., 0., 0., 1.],\n",
       "       [0., 0., 0., ..., 0., 0., 1.],\n",
       "       [0., 0., 0., ..., 0., 0., 1.]], dtype=float32)>"
      ]
     },
     "execution_count": 115,
     "metadata": {},
     "output_type": "execute_result"
    }
   ],
   "source": [
    "true_categories"
   ]
  },
  {
   "cell_type": "code",
   "execution_count": 118,
   "id": "6f2a18f9-7c07-46b9-b44b-431be7317432",
   "metadata": {},
   "outputs": [],
   "source": [
    "y_true=tf.argmax(true_categories,axis=1)"
   ]
  },
  {
   "cell_type": "code",
   "execution_count": 120,
   "id": "43ec2f4c-845d-44c7-8dba-586c64fb7b74",
   "metadata": {},
   "outputs": [
    {
     "data": {
      "text/plain": [
       "<tf.Tensor: shape=(17572,), dtype=int64, numpy=array([ 0,  0,  0, ..., 37, 37, 37])>"
      ]
     },
     "execution_count": 120,
     "metadata": {},
     "output_type": "execute_result"
    }
   ],
   "source": [
    "y_true"
   ]
  },
  {
   "cell_type": "code",
   "execution_count": 122,
   "id": "e0d28241-1460-4500-8901-55366b916737",
   "metadata": {},
   "outputs": [],
   "source": [
    "from sklearn.metrics import classification_report,confusion_matrix"
   ]
  },
  {
   "cell_type": "code",
   "execution_count": 124,
   "id": "ad3789f9-39ff-4691-96f0-54066b925991",
   "metadata": {},
   "outputs": [
    {
     "name": "stdout",
     "output_type": "stream",
     "text": [
      "                                                    precision    recall  f1-score   support\n",
      "\n",
      "                                Apple___Apple_scab       0.63      0.87      0.73       504\n",
      "                                 Apple___Black_rot       0.92      0.90      0.91       497\n",
      "                          Apple___Cedar_apple_rust       0.96      0.78      0.86       440\n",
      "                                   Apple___healthy       0.61      0.67      0.64       502\n",
      "                               Blueberry___healthy       0.80      0.92      0.86       454\n",
      "          Cherry_(including_sour)___Powdery_mildew       0.96      0.92      0.94       421\n",
      "                 Cherry_(including_sour)___healthy       0.94      0.92      0.93       456\n",
      "Corn_(maize)___Cercospora_leaf_spot Gray_leaf_spot       0.95      0.70      0.81       410\n",
      "                       Corn_(maize)___Common_rust_       0.99      0.98      0.99       477\n",
      "               Corn_(maize)___Northern_Leaf_Blight       0.76      0.98      0.86       477\n",
      "                            Corn_(maize)___healthy       0.98      0.98      0.98       465\n",
      "                                 Grape___Black_rot       0.92      0.89      0.90       472\n",
      "                      Grape___Esca_(Black_Measles)       0.97      0.94      0.95       480\n",
      "        Grape___Leaf_blight_(Isariopsis_Leaf_Spot)       0.92      0.99      0.95       430\n",
      "                                   Grape___healthy       1.00      0.88      0.94       423\n",
      "          Orange___Haunglongbing_(Citrus_greening)       0.92      0.97      0.94       503\n",
      "                            Peach___Bacterial_spot       0.81      0.85      0.83       459\n",
      "                                   Peach___healthy       0.86      0.95      0.90       432\n",
      "                     Pepper,_bell___Bacterial_spot       0.85      0.85      0.85       478\n",
      "                            Pepper,_bell___healthy       0.89      0.75      0.82       497\n",
      "                             Potato___Early_blight       0.94      0.94      0.94       485\n",
      "                              Potato___Late_blight       0.87      0.83      0.85       485\n",
      "                                  Potato___healthy       0.89      0.70      0.78       456\n",
      "                               Raspberry___healthy       0.88      0.88      0.88       445\n",
      "                                 Soybean___healthy       0.99      0.51      0.68       505\n",
      "                           Squash___Powdery_mildew       0.96      0.95      0.95       434\n",
      "                          Strawberry___Leaf_scorch       0.89      0.95      0.92       444\n",
      "                              Strawberry___healthy       0.77      0.98      0.86       456\n",
      "                           Tomato___Bacterial_spot       0.95      0.78      0.86       425\n",
      "                             Tomato___Early_blight       0.63      0.63      0.63       480\n",
      "                              Tomato___Late_blight       0.67      0.68      0.68       463\n",
      "                                Tomato___Leaf_Mold       0.60      0.89      0.72       470\n",
      "                       Tomato___Septoria_leaf_spot       0.65      0.60      0.62       436\n",
      "     Tomato___Spider_mites Two-spotted_spider_mite       0.82      0.70      0.75       435\n",
      "                              Tomato___Target_Spot       0.82      0.34      0.48       457\n",
      "            Tomato___Tomato_Yellow_Leaf_Curl_Virus       0.98      0.90      0.94       490\n",
      "                      Tomato___Tomato_mosaic_virus       0.85      0.95      0.90       448\n",
      "                                  Tomato___healthy       0.68      0.99      0.81       481\n",
      "\n",
      "                                          accuracy                           0.84     17572\n",
      "                                         macro avg       0.85      0.84      0.84     17572\n",
      "                                      weighted avg       0.85      0.84      0.84     17572\n",
      "\n"
     ]
    }
   ],
   "source": [
    "print(classification_report(y_true,predicted_categories,target_names=class_name))"
   ]
  },
  {
   "cell_type": "code",
   "execution_count": 126,
   "id": "161bc882-0c2b-414d-b2ef-7eab245b00a5",
   "metadata": {},
   "outputs": [],
   "source": [
    "conf=confusion_matrix(y_true,predicted_categories)"
   ]
  },
  {
   "cell_type": "code",
   "execution_count": 128,
   "id": "ebb6172e-bf3d-4a81-bbb7-35d244577d12",
   "metadata": {},
   "outputs": [
    {
     "data": {
      "text/plain": [
       "array([[437,  10,   0, ...,   0,   0,   0],\n",
       "       [  6, 448,   0, ...,   0,   0,   0],\n",
       "       [ 12,   6, 343, ...,   2,   0,   1],\n",
       "       ...,\n",
       "       [  1,   0,   0, ..., 442,   3,   0],\n",
       "       [  0,   0,   0, ...,   0, 427,   0],\n",
       "       [  0,   0,   2, ...,   0,   0, 476]])"
      ]
     },
     "execution_count": 128,
     "metadata": {},
     "output_type": "execute_result"
    }
   ],
   "source": [
    "conf"
   ]
  },
  {
   "cell_type": "code",
   "execution_count": 130,
   "id": "aae4580c-fb67-429f-94fe-1bc5ccf473b3",
   "metadata": {},
   "outputs": [
    {
     "data": {
      "text/plain": [
       "Text(0.5, 1.0, 'Plant Disease Prediction Confusion Matrix')"
      ]
     },
     "execution_count": 130,
     "metadata": {},
     "output_type": "execute_result"
    },
    {
     "data": {
      "image/png": "[encoded data removed]",
      "text/plain": [
       "<Figure size 4000x4000 with 2 Axes>"
      ]
     },
     "metadata": {},
     "output_type": "display_data"
    }
   ],
   "source": [
    "plt.figure(figsize=(40,40))\n",
    "sns.heatmap(conf,annot=True)\n",
    "plt.xlabel(\"Predicted Class\",fontsize=20)\n",
    "plt.ylabel(\"Actual Class\", fontsize=20)\n",
    "plt. title(\"Plant Disease Prediction Confusion Matrix\",fontsize=20)"
   ]
  },
  {
   "cell_type": "code",
   "execution_count": null,
   "id": "ccf26d24-024b-4388-b0c7-11af19ad60ee",
   "metadata": {},
   "outputs": [],
   "source": []
  }
 ],
 "metadata": {
  "kernelspec": {
   "display_name": "Python 3 (ipykernel)",
   "language": "python",
   "name": "python3"
  },
  "language_info": {
   "codemirror_mode": {
    "name": "ipython",
    "version": 3
   },
   "file_extension": ".py",
   "mimetype": "text/x-python",
   "name": "python",
   "nbconvert_exporter": "python",
   "pygments_lexer": "ipython3",
   "version": "3.11.7"
  }
 },
 "nbformat": 4,
 "nbformat_minor": 5
}
